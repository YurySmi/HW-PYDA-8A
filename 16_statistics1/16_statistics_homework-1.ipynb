{
 "cells": [
  {
   "cell_type": "markdown",
   "metadata": {},
   "source": [
    "# Домашняя работа №1"
   ]
  },
  {
   "cell_type": "code",
   "execution_count": 1,
   "metadata": {},
   "outputs": [],
   "source": [
    "import numpy as np\n",
    "import matplotlib.pyplot as plt"
   ]
  },
  {
   "cell_type": "markdown",
   "metadata": {},
   "source": [
    "## Задание 1"
   ]
  },
  {
   "cell_type": "markdown",
   "metadata": {},
   "source": [
    "Изобразите с помощью matplotlib. Изобразите точку x + 2y + 3z. Найдите угол между векторами x, y и x, z. "
   ]
  },
  {
   "cell_type": "code",
   "execution_count": 8,
   "metadata": {},
   "outputs": [],
   "source": [
    "x = np.array([1, 1])\n",
    "y = np.array([2, 0])\n",
    "z = np.array([0, 2])"
   ]
  },
  {
   "cell_type": "code",
   "execution_count": 40,
   "metadata": {},
   "outputs": [
    {
     "data": {
      "text/plain": [
       "array([5, 7])"
      ]
     },
     "execution_count": 40,
     "metadata": {},
     "output_type": "execute_result"
    }
   ],
   "source": [
    "t = x + 2*y + 3*z\n",
    "t"
   ]
  },
  {
   "cell_type": "code",
   "execution_count": 64,
   "metadata": {},
   "outputs": [
    {
     "data": {
      "text/plain": [
       "Text(0.5, 1.0, 'Исчходные вектора x, y, z')"
      ]
     },
     "execution_count": 64,
     "metadata": {},
     "output_type": "execute_result"
    },
    {
     "data": {
      "image/png": "[encoded data removed]",
      "text/plain": [
       "<Figure size 432x288 with 1 Axes>"
      ]
     },
     "metadata": {
      "needs_background": "light"
     },
     "output_type": "display_data"
    }
   ],
   "source": [
    "ax = plt.axes()\n",
    "ax.arrow(0, 0, *x, head_width=0.05, head_length=0.1)\n",
    "ax.arrow(0, 0, *y, head_width=0.05, head_length=0.1)\n",
    "ax.arrow(0, 0, *z, head_width=0.05, head_length=0.1)\n",
    "plt.ylim(-0.5,3)\n",
    "plt.xlim(-0.5,3)\n",
    "plt.text(1,0.5,'x')\n",
    "plt.text(2,0.5,'y')\n",
    "plt.text(0,2.5,'z')\n",
    "plt.title('Исходные вектора x, y, z')"
   ]
  },
  {
   "cell_type": "code",
   "execution_count": 63,
   "metadata": {},
   "outputs": [
    {
     "data": {
      "text/plain": [
       "Text(0.5, 1.0, 'Построение точки x+2y+3z')"
      ]
     },
     "execution_count": 63,
     "metadata": {},
     "output_type": "execute_result"
    },
    {
     "data": {
      "image/png": "[encoded data removed]",
      "text/plain": [
       "<Figure size 432x288 with 1 Axes>"
      ]
     },
     "metadata": {
      "needs_background": "light"
     },
     "output_type": "display_data"
    }
   ],
   "source": [
    "t = x + 2*y + 3*z\n",
    "ax = plt.axes()\n",
    "ax.arrow(0, 0, *x, head_width=0.05, head_length=0.1)\n",
    "ax.arrow(*x, *(2*y), head_width=0.05, head_length=0.1)\n",
    "ax.arrow(*(x+2*y),*(3*z), head_width=0.05, head_length=0.1)\n",
    "ax.arrow(0, 0, *t, head_width=0.05, head_length=0.1)\n",
    "plt.ylim(-0.5,7.5)\n",
    "plt.xlim(-0.5,6)\n",
    "plt.text(1,0.5,'x')\n",
    "plt.text(5,0.5,'x+2y')\n",
    "plt.text(3,7,'x + 2*y + 3*z')\n",
    "plt.title('Построение точки x+2y+3z')"
   ]
  },
  {
   "cell_type": "code",
   "execution_count": 65,
   "metadata": {},
   "outputs": [
    {
     "name": "stdout",
     "output_type": "stream",
     "text": [
      "Угол между векторами x и y 45.0 град.\n",
      "Угол между векторами x и z 45.0 град.\n"
     ]
    }
   ],
   "source": [
    "def cosine(a, b ):\n",
    "    \"\"\"\n",
    "    Подсчет косинуса угла между векторами a, b по их координатам\n",
    "    \"\"\"    \n",
    "    # длины векторов\n",
    "    aLength = np.linalg.norm( a )\n",
    "    bLength = np.linalg.norm( b )    \n",
    "    return np.dot( a, b ) / ( aLength * bLength )\n",
    "\n",
    "# угол между векторами в градусах\n",
    "print(f'Угол между векторами x и y {np.arccos( cosine( x, y ) ) * 360 / 2 / np.pi:.1f} градусов')\n",
    "print(f'Угол между векторами x и z {np.arccos( cosine( x, z ) ) * 360 / 2 / np.pi:.1f} градусов.')"
   ]
  },
  {
   "cell_type": "markdown",
   "metadata": {},
   "source": [
    "## Задание 2"
   ]
  },
  {
   "cell_type": "markdown",
   "metadata": {},
   "source": [
    "Найдите собственные значения и собственные вектора матриц (необходимо решение на numpy и решение по алгоритму на бумажке). Для матрицы 3x3 можно посмотреть на корни характеристического многочлена, посчитанные в numpy."
   ]
  },
  {
   "cell_type": "code",
   "execution_count": 66,
   "metadata": {},
   "outputs": [],
   "source": [
    "m1 = np.array([[2, 2],\n",
    "               [1, 3]])\n",
    "\n",
    "m2 = np.array([[4, 1, -1],\n",
    "               [1, 4, -1],\n",
    "               [-1, -1, 4]])"
   ]
  },
  {
   "cell_type": "code",
   "execution_count": 71,
   "metadata": {},
   "outputs": [
    {
     "name": "stdout",
     "output_type": "stream",
     "text": [
      "[[2 2]\n",
      " [1 3]]\n",
      "[1. 4.]\n",
      "[[-0.89442719 -0.70710678]\n",
      " [ 0.4472136  -0.70710678]]\n"
     ]
    }
   ],
   "source": [
    "w, v = np.linalg.eig(m1)\n",
    "print(m1)\n",
    "print(w)\n",
    "print(v)"
   ]
  },
  {
   "cell_type": "code",
   "execution_count": 105,
   "metadata": {},
   "outputs": [
    {
     "name": "stdout",
     "output_type": "stream",
     "text": [
      "Для матрицы\n",
      " [[2 2]\n",
      " [1 3]]\n",
      "Собственное значение 2.999999999999999\n",
      "соответствующий ему собственный вектор [-0.81649658  0.40824829 -0.40824829]\n",
      "Собственное значение 5.999999999999997\n",
      "соответствующий ему собственный вектор [ 0.57735027  0.57735027 -0.57735027]\n",
      "Собственное значение 2.9999999999999996\n",
      "соответствующий ему собственный вектор [-0.27658128  0.8035929   0.52701162]\n"
     ]
    }
   ],
   "source": [
    "print('Для матрицы\\n', str(m1))\n",
    "for i in range(len(w)):\n",
    "    print(\"Собственное значение \" + str(w[i]))\n",
    "    print(\"соответствующий ему собственный вектор \" + str(v[:,i]))"
   ]
  },
  {
   "cell_type": "code",
   "execution_count": 103,
   "metadata": {},
   "outputs": [
    {
     "data": {
      "text/plain": [
       "Text(0.5, 1.0, 'Проверка коллинеарности векторов (1 -0,5)/ручной расчет/ и (-0.89 0)')"
      ]
     },
     "execution_count": 103,
     "metadata": {},
     "output_type": "execute_result"
    },
    {
     "data": {
      "image/png": "[encoded data removed]",
      "text/plain": [
       "<Figure size 432x288 with 1 Axes>"
      ]
     },
     "metadata": {
      "needs_background": "light"
     },
     "output_type": "display_data"
    }
   ],
   "source": [
    "ax = plt.axes()\n",
    "ax.arrow(0, 0, 1, -0.5, head_width=0.05, head_length=0.1)\n",
    "ax.arrow(0, 0, v[0,0],v[1,0], head_width=0.05, head_length=0.1)\n",
    "plt.ylim(-1,1)\n",
    "plt.xlim(-1,1)\n",
    "plt.title('Проверка коллинеарности векторов (1 -0,5)/ручной расчет/ и (-0.89 0)')"
   ]
  },
  {
   "cell_type": "code",
   "execution_count": 107,
   "metadata": {},
   "outputs": [
    {
     "name": "stdout",
     "output_type": "stream",
     "text": [
      "Для матрицы\n",
      " [[ 4  1 -1]\n",
      " [ 1  4 -1]\n",
      " [-1 -1  4]]\n",
      "Собственное значение 2.999999999999999\n",
      "соответствующий ему собственный вектор [-0.81649658  0.40824829 -0.40824829]\n",
      "\n",
      "Собственное значение 5.999999999999997\n",
      "соответствующий ему собственный вектор [ 0.57735027  0.57735027 -0.57735027]\n",
      "\n",
      "Собственное значение 2.9999999999999996\n",
      "соответствующий ему собственный вектор [-0.27658128  0.8035929   0.52701162]\n",
      "\n"
     ]
    }
   ],
   "source": [
    "w, v = np.linalg.eig(m2)\n",
    "# print(m2)\n",
    "# print(w)\n",
    "# print(v)\n",
    "print('Для матрицы\\n', str(m2))\n",
    "for i in range(len(w)):\n",
    "    print(\"Собственное значение \" + str(w[i]))\n",
    "    print(\"соответствующий ему собственный вектор \" + str(v[:,i]))\n",
    "    print()"
   ]
  },
  {
   "cell_type": "markdown",
   "metadata": {},
   "source": [
    "## Задание 3"
   ]
  },
  {
   "cell_type": "markdown",
   "metadata": {},
   "source": [
    "Найдите сингулярное разложение матрицы."
   ]
  },
  {
   "cell_type": "code",
   "execution_count": 97,
   "metadata": {},
   "outputs": [],
   "source": [
    "m3 = np.array([[1, 2],\n",
    "               [2, 3]])"
   ]
  },
  {
   "cell_type": "code",
   "execution_count": 99,
   "metadata": {},
   "outputs": [
    {
     "name": "stdout",
     "output_type": "stream",
     "text": [
      "[[-0.52573111 -0.85065081]\n",
      " [-0.85065081  0.52573111]]\n",
      "[4.23606798 0.23606798]\n",
      "[[-0.52573111 -0.85065081]\n",
      " [ 0.85065081 -0.52573111]]\n"
     ]
    }
   ],
   "source": [
    "u, s, vh = np.linalg.svd(m3, full_matrices=True)\n",
    "print(u)\n",
    "print(s)\n",
    "print(vh)"
   ]
  },
  {
   "cell_type": "code",
   "execution_count": null,
   "metadata": {},
   "outputs": [],
   "source": []
  }
 ],
 "metadata": {
  "kernelspec": {
   "display_name": "Python 3",
   "language": "python",
   "name": "python3"
  },
  "language_info": {
   "codemirror_mode": {
    "name": "ipython",
    "version": 3
   },
   "file_extension": ".py",
   "mimetype": "text/x-python",
   "name": "python",
   "nbconvert_exporter": "python",
   "pygments_lexer": "ipython3",
   "version": "3.7.6"
  }
 },
 "nbformat": 4,
 "nbformat_minor": 2
}
