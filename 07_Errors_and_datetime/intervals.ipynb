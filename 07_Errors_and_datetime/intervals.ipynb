{
 "cells": [
  {
   "cell_type": "markdown",
   "metadata": {},
   "source": [
    "**Задача про интервалы**\n",
    "\n",
    "Имеется список отсортированных по возрастанию целых чисел data. А также целое число n, которое лежит между минимальным и максимальным значениями из списка data. Вам необходимо определить минимальное ближайшее число к n из списка data.\n",
    "\n",
    "Пример:\n",
    "\n",
    "data = [1, 7, 17, 23, 27, 35, 65]\n",
    "\n",
    "n = 20\n",
    "\n",
    "Ответ: 17\n",
    "\n",
    "Подобные алгоритмы используются для классификации объекта по значению одной метрики. Например, это может пригодиться для классификации учащегося по его возрасту:\n",
    "\n",
    "ages = {\n",
    "    1: 'дети',\n",
    "    7: 'школьники',\n",
    "    17: 'студенты',\n",
    "    23: 'аспиранты',\n",
    "    27: 'молодые ученые',\n",
    "    35: 'преподаватели',\n",
    "    65: 'пенсионеры',\n",
    "}\n",
    "\n",
    "Итого напишите функцию, которая по списку data и числу n возвращает минимальное ближайшее к n число. Список может быть любым, поэтому не рассчитывайте на написание цепочки условий через if.\n",
    "\n",
    "Бонусные варианты:\n",
    "\n",
    "Рассмотрите ситуацию, в которой при фиксированном списке data вам необходимо классифицировать большое количество пользователей с разными значениями n. Например, вам необходимо классифицировать базу из 100 миллионов человек по возрастам по словарю ages из примера выше. Можно ли в таком случае ускорить проход по такому числу пользователей?\n",
    "\n",
    "Если вы решали основное задание перебором элементов списка data и сравнением с n, то сложность такого алгоритма O(N). Т. е. при увеличении числа элементов списка data в N раз время работы алгоритма тоже вырастет в N раз. Попробуйте ускорить этот алгоритм. Например, с помощью аналога бинарного поиска."
   ]
  },
  {
   "cell_type": "code",
   "execution_count": 30,
   "metadata": {},
   "outputs": [],
   "source": [
    "data = [1, 7, 17, 23, 27, 35, 65]\n",
    "n = 20"
   ]
  },
  {
   "cell_type": "code",
   "execution_count": 137,
   "metadata": {},
   "outputs": [],
   "source": [
    "def find_nearest(data, n):    \n",
    "    data1 = [x-n for x in data if x-n <= 0]  # вычесть с каждого числа искомое, взять те, что меньше или равны 0\n",
    "    nearest = data[len(data1)-1]  # ближайшее в меньшую сторону будет с индексом последней не положительной разницы   \n",
    "#     print(data)\n",
    "#     print(data1)\n",
    "    return nearest"
   ]
  },
  {
   "cell_type": "code",
   "execution_count": 80,
   "metadata": {},
   "outputs": [
    {
     "name": "stdout",
     "output_type": "stream",
     "text": [
      "[1, 7, 17, 23, 27, 35, 65]\n",
      "[-23, -17, -7, -1]\n"
     ]
    },
    {
     "data": {
      "text/plain": [
       "23"
      ]
     },
     "execution_count": 80,
     "metadata": {},
     "output_type": "execute_result"
    }
   ],
   "source": [
    "find_nearest(data, 24)"
   ]
  },
  {
   "cell_type": "code",
   "execution_count": 148,
   "metadata": {},
   "outputs": [],
   "source": [
    "def find_nearest_binary(data, n):\n",
    "    \"\"\"\n",
    "    поиск ближайшего меньшего значения (бинарным поиском)\n",
    "    контроль корректности данных не проводится !!!\n",
    "    \"\"\"\n",
    "#     print(data, \" - \", data[len(data)//2], \" -- \", n)\n",
    "    if len(data) == 2:  # едиснвенный диапазон?\n",
    "        if n == data[1]:  # если на верхней границе? \n",
    "            return data[1]\n",
    "        else:\n",
    "            return data[0] # ближайшее меньшее\n",
    "    middle = len(data)//2  # середина списка критериев\n",
    "    if n < data[middle]:  # искомое слева?\n",
    "        return find_nearest_binary(data[0:middle+1], n)  # искать в левой \"половине\"\n",
    "    else:\n",
    "        return find_nearest_binary(data[middle:], n)  # искать в правой половине"
   ]
  },
  {
   "cell_type": "code",
   "execution_count": 149,
   "metadata": {},
   "outputs": [
    {
     "data": {
      "text/plain": [
       "17"
      ]
     },
     "execution_count": 149,
     "metadata": {},
     "output_type": "execute_result"
    }
   ],
   "source": [
    "find_nearest_binary(data, 18)"
   ]
  },
  {
   "cell_type": "code",
   "execution_count": 150,
   "metadata": {},
   "outputs": [
    {
     "name": "stdout",
     "output_type": "stream",
     "text": [
      "Возраст - 28, ближайший из словаря 27 - молодые ученые\n",
      "Возраст - 28, ближайший из словаря 27 - молодые ученые\n"
     ]
    }
   ],
   "source": [
    "ages = {\n",
    "    1: 'дети',\n",
    "    7: 'школьники',\n",
    "    17: 'студенты',\n",
    "    23: 'аспиранты',\n",
    "    27: 'молодые ученые',\n",
    "    35: 'преподаватели',\n",
    "    65: 'пенсионеры',\n",
    "}\n",
    "ages_keys = list(ages.keys())\n",
    "\n",
    "n=28\n",
    "nearest = find_nearest(ages_keys, n)\n",
    "print(f'Возраст - {n}, ближайший из словаря {nearest} - {ages[nearest]}')\n",
    "nearest = find_nearest_binary(ages_keys, n)\n",
    "print(f'Возраст - {n}, ближайший из словаря {nearest} - {ages[nearest]}')\n"
   ]
  },
  {
   "cell_type": "code",
   "execution_count": 151,
   "metadata": {},
   "outputs": [
    {
     "name": "stdout",
     "output_type": "stream",
     "text": [
      "Поиск функцией с вычитанием занял 2.73095 s\n",
      "Бинарный поиск занял 2.96774 s\n"
     ]
    }
   ],
   "source": [
    "from time import perf_counter\n",
    "from random import random\n",
    "\n",
    "start_time = perf_counter()\n",
    "for i in range(num_of_people):\n",
    "    find_nearest(ages_keys, int(random()*65))\n",
    "print (\"Поиск функцией с вычитанием занял {:g} s\".format(perf_counter() - start_time))\n",
    "\n",
    "num_of_people = 1000000\n",
    "start_time = perf_counter()\n",
    "for i in range(num_of_people):\n",
    "    find_nearest_binary(ages_keys, int(random()*65))\n",
    "print (\"Бинарный поиск занял {:g} s\".format(perf_counter() - start_time))"
   ]
  },
  {
   "cell_type": "markdown",
   "metadata": {},
   "source": [
    "Иммитация бинарного поиска не дала результата (2.596 с против 2,643 с). \n",
    "Возможно эффект бдует при большем количестве градаций возраста? \n",
    "Или что-то в реализации алгоритма?"
   ]
  },
  {
   "cell_type": "code",
   "execution_count": null,
   "metadata": {},
   "outputs": [],
   "source": []
  }
 ],
 "metadata": {
  "kernelspec": {
   "display_name": "Python 3",
   "language": "python",
   "name": "python3"
  },
  "language_info": {
   "codemirror_mode": {
    "name": "ipython",
    "version": 3
   },
   "file_extension": ".py",
   "mimetype": "text/x-python",
   "name": "python",
   "nbconvert_exporter": "python",
   "pygments_lexer": "ipython3",
   "version": "3.7.6"
  }
 },
 "nbformat": 4,
 "nbformat_minor": 4
}
