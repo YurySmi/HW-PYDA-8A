{
 "cells": [
  {
   "cell_type": "markdown",
   "metadata": {},
   "source": [
    "# Домашнее задание к лекции \"Понятие класса\"\n",
    "Преподаватель: **Константин Башевой**\n",
    "\n",
    "09.04.2020\n",
    "\n",
    "## Задание 1\n",
    "Напишите функцию, которая возвращает название валюты (поле ‘Name’) с максимальным значением курса с помощью сервиса https://www.cbr-xml-daily.ru/daily_json.js\n",
    "\n",
    "## Задание 2\n",
    "Добавьте в класс Rate параметр diff (со значениями True или False), который в случае значения True в методах eur и usd будет возвращать не курс валюты, а изменение по сравнению в прошлым значением. Считайте, self.diff будет принимать значение True только при возврате значения курса. При отображении всей информации о валюте он не используется."
   ]
  },
  {
   "cell_type": "code",
   "execution_count": 5,
   "metadata": {},
   "outputs": [],
   "source": [
    "from libs.exchange import Rate"
   ]
  },
  {
   "cell_type": "code",
   "execution_count": 37,
   "metadata": {},
   "outputs": [],
   "source": [
    "class RateWithMaxAndDiff(Rate):\n",
    "    \"\"\" во избежание почти внешней библиотеки используется наследование класса \"\"\"\n",
    "    def __init__(self, format='full', diff=False):\n",
    "        super().__init__(format)\n",
    "        self.diff = diff\n",
    "    \n",
    "    def currency_max(self):  # ЗАДАНИЕ 1\n",
    "        \"\"\" Получение названия валюты с максимальным значением курса \"\"\"\n",
    "        r = self.exchange_rates()\n",
    "\n",
    "        # формирование списка пар <название валюты>-<текущий курс>\n",
    "        currency_list = [(r[currency]['Name'], r[currency]['Value']) for currency in r]       \n",
    "                                 \n",
    "        # выбор пары с максимальным курсом       \n",
    "        max_ = max(currency_list, key = lambda x: x[1])  \n",
    "#         currency_list.sort(key = lambda x: x[1])  # сортивровка списка по значению курса                    \n",
    "        \n",
    "        return max_[0]\n",
    "       \n",
    "    def make_format_diff(self, currency): # ЗАДАНИЕ 2\n",
    "        \"\"\"\n",
    "        Возвращает информацию о валюте currency в трех вариантах:\n",
    "        - полная информация о валюте при self.format = 'full':\n",
    "        Rate('full').make_format('EUR')\n",
    "        {\n",
    "            'CharCode': 'EUR',\n",
    "            'ID': 'R01239',\n",
    "            'Name': 'Евро',\n",
    "            'Nominal': 1,\n",
    "            'NumCode': '978',\n",
    "            'Previous': 79.6765,\n",
    "            'Value': 79.4966\n",
    "        }\n",
    "        \n",
    "        - текущий курс \n",
    "        Rate('value').make_format('EUR')\n",
    "        79.4966\n",
    "        \n",
    "        - изменение курса\n",
    "        Rate('value', diff=True).make_format('EUR')\n",
    "        \"\"\"\n",
    "        response = self.exchange_rates()\n",
    "        \n",
    "        if currency in response:\n",
    "            if self.format == 'full':\n",
    "                return response[currency]\n",
    "            \n",
    "            if self.format == 'value':\n",
    "                if not self.diff:\n",
    "                    return response[currency]['Value']  # курс\n",
    "                return response[currency]['Value'] - response[currency]['Previous']  # изменение курса\n",
    "                    \n",
    "        \n",
    "        return 'Error'    \n",
    "    \n",
    "    \n",
    "    def eur(self):\n",
    "        \"\"\"Возвращает \n",
    "        - курс евро на сегодня в формате self.format\n",
    "        - или его изменение если format == 'value', diff = True\n",
    "        \"\"\"         \n",
    "        return self.make_format_diff('EUR')\n",
    "    \n",
    "    def usd(self): \n",
    "        \"\"\"Возвращает \n",
    "        - курс доллар на сегодня в формате self.format\n",
    "        - или его изменение если format == 'value', diff = True\n",
    "        \"\"\"         \n",
    "        return self.make_format_diff('USD')    "
   ]
  },
  {
   "cell_type": "code",
   "execution_count": 40,
   "metadata": {},
   "outputs": [
    {
     "name": "stdout",
     "output_type": "stream",
     "text": [
      "Валюта с максимальным значением курса: СДР (специальные права заимствования)\n"
     ]
    }
   ],
   "source": [
    "# ЗАДАНИЕ 1\n",
    "cur = RateWithMaxAndDiff()\n",
    "print(f'Валюта с максимальным значением курса: {cur.currency_max()}')"
   ]
  },
  {
   "cell_type": "code",
   "execution_count": 41,
   "metadata": {},
   "outputs": [
    {
     "name": "stdout",
     "output_type": "stream",
     "text": [
      "{'ID': 'R01239', 'NumCode': '978', 'CharCode': 'EUR', 'Nominal': 1, 'Name': 'Евро', 'Value': 81.0882, 'Previous': 82.2341}\n",
      "{'ID': 'R01235', 'NumCode': '840', 'CharCode': 'USD', 'Nominal': 1, 'Name': 'Доллар США', 'Value': 74.605, 'Previous': 75.7499}\n",
      "Изменение курса евро: -1.1458999999999975\n",
      "Изменение курса доллара: -1.1448999999999927\n"
     ]
    }
   ],
   "source": [
    "# ЗАДАНИЕ 2\n",
    "cur2 = RateWithMaxAndDiff(format = 'full', diff=True)\n",
    "print(cur2.eur())\n",
    "print(cur2.usd())\n",
    "cur2.format = 'value'\n",
    "print(f'Изменение курса евро: {cur2.eur()}')\n",
    "print(f'Изменение курса доллара: {cur2.usd()}')"
   ]
  },
  {
   "cell_type": "code",
   "execution_count": null,
   "metadata": {},
   "outputs": [],
   "source": []
  }
 ],
 "metadata": {
  "kernelspec": {
   "display_name": "Python 3",
   "language": "python",
   "name": "python3"
  },
  "language_info": {
   "codemirror_mode": {
    "name": "ipython",
    "version": 3
   },
   "file_extension": ".py",
   "mimetype": "text/x-python",
   "name": "python",
   "nbconvert_exporter": "python",
   "pygments_lexer": "ipython3",
   "version": "3.7.6"
  }
 },
 "nbformat": 4,
 "nbformat_minor": 4
}
