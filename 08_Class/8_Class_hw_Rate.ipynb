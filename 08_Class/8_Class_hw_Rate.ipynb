{
 "cells": [
  {
   "cell_type": "markdown",
   "metadata": {},
   "source": [
    "# Домашнее задание к лекции \"Понятие класса\"\n",
    "Преподаватель: **Константин Башевой**\n",
    "\n",
    "09.04.2020\n",
    "\n",
    "## Задание 1\n",
    "Напишите функцию, которая возвращает название валюты (поле ‘Name’) с максимальным значением курса с помощью сервиса https://www.cbr-xml-daily.ru/daily_json.js\n",
    "\n",
    "## Задание 2\n",
    "Добавьте в класс Rate параметр diff (со значениями True или False), который в случае значения True в методах eur и usd будет возвращать не курс валюты, а изменение по сравнению в прошлым значением. Считайте, self.diff будет принимать значение True только при возврате значения курса. При отображении всей информации о валюте он не используется."
   ]
  },
  {
   "cell_type": "code",
   "execution_count": 1,
   "metadata": {},
   "outputs": [],
   "source": [
    "from libs.exchange import Rate"
   ]
  },
  {
   "cell_type": "code",
   "execution_count": 49,
   "metadata": {},
   "outputs": [],
   "source": [
    "class RateWithMaxAndDiff(Rate):\n",
    "    def __init__(self):\n",
    "        super().__init__(format ='full')\n",
    "    \n",
    "    def currency_max(self):  # ЗАДАНИЕ 1\n",
    "        \"\"\" Получение названия валюты с максимальным значением курса \"\"\"\n",
    "        r = self.exchange_rates()\n",
    "\n",
    "        # формирование списка пар <название валюты>-<текущий курс>\n",
    "        currency_list = [(r[currency]['Name'], r[currency]['Value']) for currency in r]       \n",
    "                                 \n",
    "        # выбор пары с максимальным курсом       \n",
    "        max_ = max(currency_list, key = lambda x: x[1])  \n",
    "#         currency_list.sort(key = lambda x: x[1])  # сортивровка списка по значению курса                    \n",
    "        \n",
    "        return max_[0]"
   ]
  },
  {
   "cell_type": "code",
   "execution_count": 50,
   "metadata": {},
   "outputs": [
    {
     "name": "stdout",
     "output_type": "stream",
     "text": [
      "Валюта с максимальным значением курса: СДР (специальные права заимствования)\n"
     ]
    }
   ],
   "source": [
    "cur = RateWithMaxAndDiff()\n",
    "print(f'Валюта с максимальным значением курса: {cur.currency_max()}')"
   ]
  },
  {
   "cell_type": "code",
   "execution_count": null,
   "metadata": {},
   "outputs": [],
   "source": []
  }
 ],
 "metadata": {
  "kernelspec": {
   "display_name": "Python 3",
   "language": "python",
   "name": "python3"
  },
  "language_info": {
   "codemirror_mode": {
    "name": "ipython",
    "version": 3
   },
   "file_extension": ".py",
   "mimetype": "text/x-python",
   "name": "python",
   "nbconvert_exporter": "python",
   "pygments_lexer": "ipython3",
   "version": "3.7.6"
  }
 },
 "nbformat": 4,
 "nbformat_minor": 4
}
