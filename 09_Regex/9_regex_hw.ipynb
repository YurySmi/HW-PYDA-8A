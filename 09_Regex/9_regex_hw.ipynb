{
 "cells": [
  {
   "cell_type": "markdown",
   "metadata": {},
   "source": [
    "# Домашнее задание к лекции «Регулярные выражения и основы синтаксического разбора»\n",
    "13.04.2020"
   ]
  },
  {
   "cell_type": "markdown",
   "metadata": {},
   "source": [
    "## Задание 1.\n",
    "Напишите функцию, которая принимает на вход строку и проверяет является ли она валидным транспортным номером. Если да, то функция должна возвращать отдельно номер и регион."
   ]
  },
  {
   "cell_type": "code",
   "execution_count": 53,
   "metadata": {},
   "outputs": [],
   "source": [
    "import re\n",
    "def transport_number(number_str):\n",
    "    \"\"\"\n",
    "    Функция проверяет, является ли строка на входе валидным рег. знаком (транспортным номером) \n",
    "    легковых, грузовых автомобилей и автобусов (группа 1, тип 1 и 1а в соотв. с  ГОСТ Р 50577-2018)        \n",
    "    Возвращает кортеж: \n",
    "    - номер (серия+номер), код региона\n",
    "    - False - если номер некорректен\n",
    "    \"\"\"    \n",
    "#     number = re.findall(r'([АВЕКМНОРСТУХ]\\d{3}[АВЕКМНОРСТУХ]{2})(\\d{2,3})', number_str)   \n",
    "    number = re.match(r'([АВЕКМНОРСТУХ]\\d{3}[АВЕКМНОРСТУХ]{2})(\\d{2,3})', number_str)   \n",
    "#     print(number)\n",
    "    if number and (number_str == number.group(0) ): # номер определен и в строне нет ничего лишнего\n",
    "        return number.group(1), number.group(2)\n",
    "    else:\n",
    "        return False"
   ]
  },
  {
   "cell_type": "code",
   "execution_count": 52,
   "metadata": {},
   "outputs": [
    {
     "name": "stdout",
     "output_type": "stream",
     "text": [
      "('М152ТВ', '174')\n",
      "False\n",
      "False\n"
     ]
    }
   ],
   "source": [
    "print(transport_number('М152ТВ174'))\n",
    "print(transport_number('М152ТВ'))\n",
    "print(transport_number('М152ТВ174 М152ТВ174'))"
   ]
  },
  {
   "cell_type": "markdown",
   "metadata": {},
   "source": [
    "## Задание 2.\n",
    "Постарайтесь написать (в крайнем случае найти) самый полный шаблон для проверки e-mail адресов через регулярное выражение, которая проверяет e-mail адрес на валидность. Можно руководствоваться следующими минимальными требованиями:\n",
    "\n",
    "- +адрес должен содержать специальный символ “@”, который отделяет имя пользователя почтовой системы от доменного имени;\n",
    "- +адрес не должен содержать следующие символы: “пробел”, “,”, “:”, “;”, “!”, “#”, “%”, “*”, “(”, “)”, “=”, “+”, “{”, “}”, \" \" \", \" ’ \", \" / \", \" \\ \" и “|”;\n",
    "- + адрес должен состоять только из латинских символов;\n",
    "- + после символа “@” должна быть как минимум одна “.”;\n",
    "- +после последней точки должно быть не менее 2-х и не более 4-х символов, причем наличие цифр не допускается;\n",
    "- +между последней точкой и символом “@” должно быть не менее 2-х символов\n",
    "- +слева от “@” должно быть не менее четырех символов"
   ]
  },
  {
   "cell_type": "code",
   "execution_count": 150,
   "metadata": {},
   "outputs": [
    {
     "name": "stdout",
     "output_type": "stream",
     "text": [
      "\"john@mail.ru\"  =  [('j', 'ohn', '@', 'mail', '.ru')]\n",
      "\"john@company.mail.ru\"  =  [('j', 'ohn', '@', 'company.mail', '.ru')]\n",
      "\"jo.hn@mail.ru\"  =  [('j', 'o.hn', '@', 'mail', '.ru')]\n",
      "\"john.mail\" - False\n",
      "\"john doe@mail.mail.ru\" - False\n",
      "\"john=doe@mail.mail.ru\" - False\n",
      "\"адрес@домен.ru\" - False\n",
      "\"john@mail\" - False\n",
      "\"john@mail.manychar\" - False\n",
      "\"joh.n@mail.ru\" - False\n",
      "\"n@mail.ru\" - False\n",
      "\"hn@mail.ru\" - False\n",
      "\"ohn@mail.ru\" - False\n"
     ]
    },
    {
     "data": {
      "text/plain": [
       "False"
      ]
     },
     "execution_count": 150,
     "metadata": {},
     "output_type": "execute_result"
    }
   ],
   "source": [
    "def check_email(email):\n",
    "    if re.findall(r'[\\s^\\,:;!#%,*()=+{}\"’/\\|]', email):\n",
    "        print(f'\"{email}\" - False')\n",
    "        return False\n",
    "\n",
    "    email = email.lower()\n",
    "\n",
    "#     pattern = r'([a-z.]+)(@)([a-z.]+)(\\.[a-z]{2,4})$'\n",
    "#     pattern = r'([a-z]+?)([a-z.]+)(?<!\\.\\w)(@)([a-z.]+)(\\.[a-z]{2,4})$'    \n",
    "#     pattern = r'(^[a-z]+?)([a-z.]+)(?<!\\.\\w)(?<=.{4})(@)([a-z.]+)(\\.[a-z]{2,4})$'    # мой вариант    \n",
    "    pattern = r'^([a-z])([a-z.]+)(?<!\\.\\w)(?<=.{4})(@)([a-z.]+)(\\.[a-z]{2,4})$'    # мой вариант        \n",
    "    \n",
    "    parts = re.findall(pattern, email)\n",
    "    if parts:    \n",
    "        print(f'\"{email}\"  =  {parts}')\n",
    "        return True        \n",
    "    print(f'\"{email}\" - False')\n",
    "    return False\n",
    "    \n",
    "\n",
    "check_email('john@mail.ru')\n",
    "check_email('john@company.mail.ru')\n",
    "check_email('jo.hn@mail.ru')         # \n",
    "\n",
    "check_email('john.mail')             # без @\n",
    "check_email('john doe@mail.mail.ru') # спецсимволы\n",
    "check_email('john=doe@mail.mail.ru') # спецсимволы\n",
    "check_email('адрес@домен.ru')        # не латинские буквы\n",
    "check_email('john@mail')             # без . после @\n",
    "check_email('john@mail.manychar')    # много после @ и последней .\n",
    "check_email('joh.n@mail.ru')         # лишь один символ после . перед @\n",
    "check_email('n@mail.ru')             # мало перед @\n",
    "check_email('hn@mail.ru')            # мало перед @\n",
    "check_email('ohn@mail.ru')           # мало перед @\n"
   ]
  },
  {
   "cell_type": "markdown",
   "metadata": {},
   "source": [
    "## Задание 3. \n",
    "Напишите функцию, которая будет удалять все последовательные повторы слов из заданной строки при помощи регулярных выражений."
   ]
  },
  {
   "cell_type": "code",
   "execution_count": 160,
   "metadata": {},
   "outputs": [
    {
     "data": {
      "text/plain": [
       "'Напишите функцию, которая будет удалять все последовательные повторы слов из заданной строки при помощи регулярных выражений.'"
      ]
     },
     "execution_count": 160,
     "metadata": {},
     "output_type": "execute_result"
    }
   ],
   "source": [
    "def del_repeat(string):\n",
    "#     new_string = re.findall(r'(\\b\\w+\\b)\\s\\1', string)\n",
    "    new_string = re.sub(r'(\\b\\w+\\b)\\s\\1', r'\\1', string)\n",
    "    while new_string != string:\n",
    "        string = str(new_string)\n",
    "        new_string = re.sub(r'(\\b\\w+\\b)\\s\\1', r'\\1', string)\n",
    "    return new_string\n",
    "    \n",
    "    \n",
    "del_repeat(\"Напишите функцию функцию, которая будет будет удалять все все все последовательные повторы слов слов слов слов слов слов из заданной строки при помощи регулярных выражений.\")\n"
   ]
  },
  {
   "cell_type": "markdown",
   "metadata": {},
   "source": [
    "## Задание 4.\n",
    "Напишите функцию, которая будет проверять номер сотового телефона на валидность, если он валиден, то переводить его в формат:\n",
    "+7(xxx)-xxx-xx-xx\n",
    "\n",
    "Постарайтесь предусмотреть как можно больше адекватных форматов изначального ввода номера. Примеры валидных форматов:\n",
    "\n",
    "• +7 955 555-55-55;\n",
    "• 9555555555;\n",
    "• 8(955)555-55-55;\n",
    "• +7 955 555 55 55;\n",
    "• 7(955) 555-55-55;\n",
    "• +7 955+555+55+55."
   ]
  },
  {
   "cell_type": "code",
   "execution_count": 179,
   "metadata": {},
   "outputs": [
    {
     "name": "stdout",
     "output_type": "stream",
     "text": [
      "+7 955 555-55-55  =  +7(955)-555-55-55\n",
      "9555555555  =  +7(955)-555-55-55\n",
      "8(955)555-55-55  =  +7(955)-555-55-55\n",
      "+7 955 555 55 55  =  +7(955)-555-55-55\n",
      "7(955) 555-55-55  =  +7(955)-555-55-55\n",
      "+7 955+555+55+55  =  +7(955)-555-55-55\n",
      "asas  =  False\n",
      "12345  =  False\n"
     ]
    }
   ],
   "source": [
    "def valid_phone_number(phone_number):\n",
    "    phone_number = re.sub(r'\\D', r'', phone_number) # убрать все не цифры\n",
    "    phone_number = re.findall(r'^([78])?(\\d{3})(\\d{3})(\\d{2})(\\d{2})$', phone_number) # разбить на блоки цифр\n",
    "    if phone_number:                \n",
    "        phone_number = phone_number[0]\n",
    "        phone_number = f'+7({phone_number[1]})-{phone_number[2]}-{phone_number[3]}-{phone_number[4]}'\n",
    "        return phone_number\n",
    "    return False\n",
    "\n",
    "num = ['+7 955 555-55-55', '9555555555', '8(955)555-55-55', '+7 955 555 55 55', '7(955) 555-55-55', '+7 955+555+55+55',\n",
    "      'asas','12345']\n",
    "for n in num:\n",
    "    print(n, ' = ', valid_phone_number(n))"
   ]
  },
  {
   "cell_type": "code",
   "execution_count": null,
   "metadata": {},
   "outputs": [],
   "source": []
  }
 ],
 "metadata": {
  "kernelspec": {
   "display_name": "Python 3",
   "language": "python",
   "name": "python3"
  },
  "language_info": {
   "codemirror_mode": {
    "name": "ipython",
    "version": 3
   },
   "file_extension": ".py",
   "mimetype": "text/x-python",
   "name": "python",
   "nbconvert_exporter": "python",
   "pygments_lexer": "ipython3",
   "version": "3.7.6"
  }
 },
 "nbformat": 4,
 "nbformat_minor": 4
}
