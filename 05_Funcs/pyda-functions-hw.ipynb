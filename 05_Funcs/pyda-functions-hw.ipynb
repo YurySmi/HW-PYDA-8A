{
 "cells": [
  {
   "cell_type": "markdown",
   "metadata": {},
   "source": [
    "## Задание 1"
   ]
  },
  {
   "cell_type": "markdown",
   "metadata": {},
   "source": [
    "Дан список вида:"
   ]
  },
  {
   "cell_type": "code",
   "execution_count": 2,
   "metadata": {},
   "outputs": [],
   "source": [
    "data = [\n",
    "    [13, 25, 23, 34],\n",
    "    [45, 32, 44, 47],\n",
    "    [12, 33, 23, 95],\n",
    "    [13, 53, 34, 35]\n",
    "]"
   ]
  },
  {
   "cell_type": "markdown",
   "metadata": {},
   "source": [
    "Напишите функцию, которая возвращает сумму элементов на диагонали. Т. е. 13+32+23+35.  \n",
    "Список может быть любой длины, но всегда является \"квадратным\" (количество элементов во вложенных списках равно их количеству)."
   ]
  },
  {
   "cell_type": "code",
   "execution_count": 3,
   "metadata": {},
   "outputs": [],
   "source": [
    "def sum_diagonal(data):  \n",
    "    diagonal_sum = 0\n",
    "    for i in range(len(data)):\n",
    "        diagonal_sum += data[i][i]\n",
    "    return diagonal_sum"
   ]
  },
  {
   "cell_type": "code",
   "execution_count": 4,
   "metadata": {},
   "outputs": [
    {
     "name": "stdout",
     "output_type": "stream",
     "text": [
      "103\n"
     ]
    }
   ],
   "source": [
    "print(sum_diagonal(data))"
   ]
  },
  {
   "cell_type": "markdown",
   "metadata": {},
   "source": [
    "## Задание 2"
   ]
  },
  {
   "cell_type": "markdown",
   "metadata": {},
   "source": [
    "Напишите функцию, возвращающую сумму первых n чисел Фибоначчи (для этого вам может понадобится ознакомиться с рекурсией)."
   ]
  },
  {
   "cell_type": "code",
   "execution_count": 12,
   "metadata": {},
   "outputs": [],
   "source": [
    "def fib(n):\n",
    "    \"\"\"\n",
    "    Функция возвращает число Фиббоначи (n>0)\n",
    "    Чи́сла Фибона́ччи (иногда пишут Фибона́чи[2]) — элементы числовой последовательности\n",
    "    в которой первые два числа равны либо 1 и 1, либо 0 и 1, а каждое последующее число равно сумме двух предыдущих чисел.\n",
    "    https://ru.wikipedia.org/wiki/%D0%A7%D0%B8%D1%81%D0%BB%D0%B0_%D0%A4%D0%B8%D0%B1%D0%BE%D0%BD%D0%B0%D1%87%D1%87%D0%B8    \n",
    "    \"\"\"\n",
    "    if n < 0:\n",
    "        return 'в данной версии используются только положительная часть ряда'\n",
    "    if n == 0:\n",
    "        return 0\n",
    "    elif n == 1:\n",
    "        return 1\n",
    "    return fib(n-1) + fib (n-2)"
   ]
  },
  {
   "cell_type": "code",
   "execution_count": 26,
   "metadata": {},
   "outputs": [
    {
     "data": {
      "text/plain": [
       "55"
      ]
     },
     "execution_count": 26,
     "metadata": {},
     "output_type": "execute_result"
    }
   ],
   "source": [
    "fib(10)"
   ]
  },
  {
   "cell_type": "code",
   "execution_count": 22,
   "metadata": {},
   "outputs": [],
   "source": [
    "def sum_fib(n)\n",
    "    \"\"\"\n",
    "    Функция возвращает СУММУ первых n чисел Фиббоначи \n",
    "    \"\"\"\n",
    "    summa = 0\n",
    "    for i in range(n+1):\n",
    "        summa += fib(i)\n",
    "    return summa"
   ]
  },
  {
   "cell_type": "code",
   "execution_count": 25,
   "metadata": {},
   "outputs": [
    {
     "name": "stdout",
     "output_type": "stream",
     "text": [
      "7\n"
     ]
    }
   ],
   "source": [
    "print(sum_fib(4))"
   ]
  },
  {
   "cell_type": "markdown",
   "metadata": {},
   "source": [
    "## Задание 3\n"
   ]
  },
  {
   "cell_type": "markdown",
   "metadata": {},
   "source": [
    "Напишите функцию, преобразующую произвольный список вида ['2018-01-01', 'yandex', 'cpc', 100] (он может быть любой длины) в словарь {'2018-01-01': {'yandex': {'cpc': 100}}}"
   ]
  },
  {
   "cell_type": "code",
   "execution_count": 33,
   "metadata": {},
   "outputs": [],
   "source": [
    "def list_to_dict(my_list):\n",
    "    my_dict = dict() # словарь для результата\n",
    "\n",
    "    if len(my_list) <2:  # задача не имеет решения, если список пуст или содержит только один элемент\n",
    "        return 'Слишком малый список - не свернуть во вложенный словарь!'\n",
    "    \n",
    "    # первый элемент словаря: ключ - предпоследний элемент списка, значение - последний       \n",
    "    my_dict[my_list[-2]] = my_list[-1] \n",
    "    del(my_list[-1]) # последний элемент списка использован - удалить его\n",
    "            \n",
    "    while len(my_list)>1: # делаем, пока в оставшемся списке как минимум два элемента\n",
    "        my_dict2 = dict() # временный пустой словарь\n",
    "        # в пустом словаре пара: ключ - предпоследний элемент списка, значение - предыдущий словарь\n",
    "        my_dict2[my_list[-2]] = my_dict    \n",
    "        my_dict = dict(my_dict2) # копия\n",
    "        del(my_list[-1]) # \n",
    "    return my_dict # возврат результирующего словаря"
   ]
  },
  {
   "cell_type": "code",
   "execution_count": 36,
   "metadata": {},
   "outputs": [
    {
     "name": "stdout",
     "output_type": "stream",
     "text": [
      "{'2018-01-01': {'yandex': {'cpc': {100: {1: {2: {3: {4: {5: {6: {7: {8: {9: 0}}}}}}}}}}}}}\n",
      "{1: 2}\n",
      "Слишком малый список - не свернуть во вложенный словарь!\n"
     ]
    }
   ],
   "source": [
    "my_list = ['2018-01-01', 'yandex', 'cpc', 100, 1, 2, 3, 4, 5, 6, 7, 8, 9, 0]\n",
    "print(list_to_dict(my_list))\n",
    "print(list_to_dict([1, 2]))\n",
    "print(list_to_dict(['small']))"
   ]
  },
  {
   "cell_type": "markdown",
   "metadata": {},
   "source": [
    "## Задание 4"
   ]
  },
  {
   "cell_type": "markdown",
   "metadata": {},
   "source": [
    "Вы работаете секретарем и вам постоянно приходят различные документы. Вы должны быть очень внимательны, чтобы не потерять ни один документ. Каталог документов хранится в следующем виде:"
   ]
  },
  {
   "cell_type": "code",
   "execution_count": 10,
   "metadata": {},
   "outputs": [],
   "source": [
    "documents = [\n",
    "    {'type': 'passport', 'number': '2207 876234', 'name': 'Василий Гупкин'},\n",
    "    {'type': 'invoice', 'number': '11-2', 'name': 'Геннадий Покемонов'},\n",
    "    {'type': 'insurance', 'number': '10006', 'name': 'Аристарх Павлов'}\n",
    "]"
   ]
  },
  {
   "cell_type": "markdown",
   "metadata": {},
   "source": [
    "Перечень полок, на которых находятся документы хранится в следующем виде:"
   ]
  },
  {
   "cell_type": "code",
   "execution_count": 11,
   "metadata": {},
   "outputs": [],
   "source": [
    "directories = {\n",
    "    '1': ['2207 876234', '11-2', '5455 028765'],\n",
    "    '2': ['10006', '5400 028765', '5455 002299'],\n",
    "    '3': []\n",
    "}"
   ]
  },
  {
   "cell_type": "markdown",
   "metadata": {},
   "source": [
    "Необходимо реализовать пользовательские команды (внимание! это не название функций, которые должны быть выразительными, а команды, которые вводит пользователь, чтобы получить необходимый результат):\n",
    "  \n",
    "- p – people – команда, которая спросит номер документа и выведет имя человека, которому он принадлежит;  \n",
    "- s – shelf – команда, которая спросит номер документа и выведет номер полки, на которой он находится  \n",
    "Правильно обработайте ситуацию, когда пользователь будет вводить несуществующий документ.\n",
    "- l – list – команда, которая выведет список всех документов в формате   \n",
    "**passport \"2207 876234\" \"Василий Гупкин\"**  \n",
    "- as – add shelf – команда, которая спросит номер новой полки и добавит ее в перечень\n",
    "- d – delete – команда, которая спросит номер документа и удалит его из каталога и из перечня полок. Предусмотрите сценарий, когда пользователь вводит несуществующий документ;  \n",
    "- m – move – команда, которая спросит номер документа и целевую полку и переместит его с текущей полки на целевую. Корректно обработайте кейсы, когда пользователь пытается переместить несуществующий документ или переместить документ на несуществующую полку;  \n",
    "- a – add – команда, которая добавит новый документ в каталог и в перечень полок, спросив его номер, тип, имя владельца и номер полки, на котором он будет храниться."
   ]
  },
  {
   "cell_type": "code",
   "execution_count": 12,
   "metadata": {},
   "outputs": [],
   "source": [
    "def is_correct(docs, value, field_name='number'):  # проверка на наличие записи\n",
    "    for doc in docs:\n",
    "        if doc[field_name] == value:\n",
    "            return True\n",
    "    return False\n",
    "\n",
    "\n",
    "def get_creator(docs, doc_num):  # поиск владельца/создателя документа\n",
    "    #     if is_correct(docs, doc_num):\n",
    "    for doc in docs:\n",
    "        if doc['number'] == doc_num:\n",
    "            return doc['name']\n",
    "    return 'Документ не найден'\n",
    "\n",
    "\n",
    "def get_dir(directories, doc_num):  # поиск полки, на которой находится документ\n",
    "    for dir, doc_nums in directories.items():\n",
    "        if doc_num in doc_nums:\n",
    "            return dir\n",
    "    return False  # документ не найден\n",
    "\n",
    "\n",
    "def print_docs(documents):  # вывести на экран все документы\n",
    "    for doc in documents:\n",
    "        print(f'{doc[\"type\"]:10} \"{doc[\"number\"]:>20}\" \"{doc[\"name\"]}\"')\n",
    "\n",
    "\n",
    "def add_dir(dirs, new_dir):  # добавить полку\n",
    "    if new_dir in directories:\n",
    "        return False\n",
    "    dirs[new_dir] = {}\n",
    "    return True\n",
    "\n",
    "\n",
    "def delete_doc(doc_num):  # удалить дкумент\n",
    "    global documents  # необходимо менять глобальные переменные\n",
    "    global directories  # необходимо менять глобальные переменные\n",
    "\n",
    "    if not is_correct(documents, doc_num):  # проверка наличия документа с указанным номером\n",
    "        return False\n",
    "    for (i, doc) in enumerate(documents):  # найти в перечне документов ....\n",
    "        if doc_num == doc['number']:\n",
    "            del (documents[i])  # ... и удалить\n",
    "    for (dir, docs) in directories.items():  # найти на полках ...\n",
    "        if doc_num in docs:\n",
    "            directories[dir].remove(doc_num)  # ... и удалить\n",
    "    return True\n",
    "\n",
    "\n",
    "def move_doc(doc_num, dir_num):\n",
    "    global documents  # необходимо менять глобальные переменные\n",
    "    global directories  # необходимо менять глобальные переменные\n",
    "\n",
    "    if is_correct(documents, doc_num):  # документ есть?\n",
    "        if dir_num in directories:  # полка есть?\n",
    "            old_dir = get_dir(directories, doc_num)  # текущая полка с документом\n",
    "            if old_dir == False:\n",
    "                return 'Документ на полке не найден!'            \n",
    "            directories[old_dir].remove(doc_num)  # убрать со старой полки\n",
    "            directories[dir_num].append(doc_num)  # помесить на новую        \n",
    "            return 'Документ перемещен.'\n",
    "        else:\n",
    "            return 'Такой полки нет!'\n",
    "    else:\n",
    "        return 'Документ не найден!'\n",
    "\n",
    "\n",
    "def put_new_doc(doc_type, doc_num, doc_creator, doc_dir):\n",
    "    global documents  # необходимо менять глобальные переменные\n",
    "    global directories  # необходимо менять глобальные переменные\n",
    "    documents.append({'type': doc_type, 'number': doc_num, 'name': doc_creator})\n",
    "    if doc_dir in directories:  # полка есть?\n",
    "        directories[doc_dir].append(doc_num)  # помесить на новую\n",
    "        return 'Документ размещен'\n",
    "    return 'Такой полки пока нет!'\n",
    "\n",
    "\n",
    "def print_shelves(directories):\n",
    "    print('№ полки    | №№ документов')\n",
    "    for dir, docs in directories.items():\n",
    "        print(f'{dir:10} | {docs}')"
   ]
  },
  {
   "cell_type": "code",
   "execution_count": 13,
   "metadata": {},
   "outputs": [],
   "source": [
    "def main():\n",
    "    print('Список команд:')\n",
    "    print('p – поиск владельца документа по номеру документа')\n",
    "    print('s – поиск полки по номеру документа')\n",
    "    print('l – печать списка документов')\n",
    "    print('as – добавить новую полку')\n",
    "    print('d – удалить документ по номеру')\n",
    "    print('m – переместить документ')\n",
    "    print('a – добавить документ')\n",
    "    print('o - перечень полок')\n",
    "    print('q - выход из программы')\n",
    "    while True:\n",
    "        user_input = input('Введите команду: ')\n",
    "        if user_input == 'p':\n",
    "            doc_num = input('Поиск владельца документа. Введите номер документа: ')\n",
    "            if is_correct(documents, doc_num):\n",
    "                print(f'Документ №{doc_num} принадлежит \"{get_creator(documents, doc_num)}\"')\n",
    "            else:\n",
    "                print(f'Документ №{doc_num} не найден')\n",
    "\n",
    "        elif user_input == 's':\n",
    "            doc_num = input('Поиск полки. Введите номер документа: ')\n",
    "            dir = get_dir(directories, doc_num)\n",
    "            if dir != False:\n",
    "                print(f'Документ №{doc_num} находится на полке {dir}')\n",
    "            else:\n",
    "                print(f'Документ №{doc_num} не найден')\n",
    "        elif user_input == 'l':\n",
    "            print_docs(documents)\n",
    "        elif user_input == 'o':\n",
    "            print_shelves(directories)\n",
    "        elif user_input == 'as':\n",
    "            dir_num = input('Добавление новой полки. Введите номер полки: ')\n",
    "            if add_dir(directories, dir_num):\n",
    "                print(f'Полка №{dir_num} добавлена.')\n",
    "                print_shelves(directories)\n",
    "            else:\n",
    "                print(f'Полка №{dir_num} уже существует.')\n",
    "\n",
    "        elif user_input == 'd':\n",
    "            doc_num = input('Удаление документа. Введите номер документа: ')\n",
    "            if delete_doc(doc_num):\n",
    "                print(f'Документ №{doc_num} удален')\n",
    "            else:\n",
    "                print(f'Документ №{doc_num} не найден')\n",
    "        elif user_input == 'm':\n",
    "            doc_num = input('Перемещение документа. Введите номер документа: ')\n",
    "            dir_num = input('Введите номер полки, на которую переместить документ: ')\n",
    "            print(move_doc(doc_num, dir_num))\n",
    "        elif user_input == 'a':\n",
    "            print('Размещение нового документа. Введите:')\n",
    "            doc_type = input('тип документа: ')\n",
    "            doc_num = input('номер документа: ')\n",
    "            doc_creator = input('владельца документа: ')\n",
    "            doc_dir = input('полка: ')\n",
    "            print(put_new_doc(doc_type, doc_num, doc_creator, doc_dir))\n",
    "            pass\n",
    "        elif user_input == 'q':\n",
    "            break\n",
    "        print('------------------------------------------')"
   ]
  },
  {
   "cell_type": "code",
   "execution_count": 15,
   "metadata": {},
   "outputs": [
    {
     "name": "stdout",
     "output_type": "stream",
     "text": [
      "Список команд:\n",
      "p – поиск владельца документа по номеру документа\n",
      "s – поиск полки по номеру документа\n",
      "l – печать списка документов\n",
      "as – добавить новую полку\n",
      "d – удалить документ по номеру\n",
      "m – переместить документ\n",
      "a – добавить документ\n",
      "o - перечень полок\n",
      "q - выход из программы\n",
      "Введите команду: q\n"
     ]
    }
   ],
   "source": [
    "main()"
   ]
  },
  {
   "cell_type": "code",
   "execution_count": null,
   "metadata": {},
   "outputs": [],
   "source": []
  }
 ],
 "metadata": {
  "kernelspec": {
   "display_name": "Python 3",
   "language": "python",
   "name": "python3"
  },
  "language_info": {
   "codemirror_mode": {
    "name": "ipython",
    "version": 3
   },
   "file_extension": ".py",
   "mimetype": "text/x-python",
   "name": "python",
   "nbconvert_exporter": "python",
   "pygments_lexer": "ipython3",
   "version": "3.7.6"
  }
 },
 "nbformat": 4,
 "nbformat_minor": 2
}
