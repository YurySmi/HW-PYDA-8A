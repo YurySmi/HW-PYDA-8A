{
 "cells": [
  {
   "cell_type": "markdown",
   "metadata": {},
   "source": [
    "**Задача 1**. Дано слово из латинских букв. Напишите скрипт, который выводит на экран букву из середины слова (если число букв нечетное). Если букв четное число, то на экран выводятся две буквы из середины.  \n",
    "\n",
    "Пример: для 'test' должно выводится 'es', для 'testing' - 't'"
   ]
  },
  {
   "cell_type": "code",
   "execution_count": 1,
   "metadata": {},
   "outputs": [
    {
     "name": "stdout",
     "output_type": "stream",
     "text": [
      "aa\n"
     ]
    }
   ],
   "source": [
    "word = '000aa000' # данное слово\n",
    "word_length = len(word)\n",
    "if word_length % 2 != 0: #число букв нечетное\n",
    "    print(word[word_length//2]) # буква из середины слова\n",
    "else: # число букв четное\n",
    "    print(word[word_length//2-1:word_length//2+1]) # буква до середины и буква после середины слова"
   ]
  },
  {
   "cell_type": "markdown",
   "metadata": {},
   "source": [
    "**Задача 2**. Мы делаем MVP dating-сервиса, и у нас есть список парней и девушек (их число может варьироваться):"
   ]
  },
  {
   "cell_type": "code",
   "execution_count": 2,
   "metadata": {},
   "outputs": [],
   "source": [
    "boys = ['Peter', 'Alex', 'John', 'Arthur', 'Richard']\n",
    "girls = ['Kate', 'Liza', 'Kira', 'Emma', 'Trisha']"
   ]
  },
  {
   "cell_type": "markdown",
   "metadata": {},
   "source": [
    "Выдвигаем гипотезу: лучшие рекомендации мы получим, если просто отсортируем имена по алфавиту и познакомим людей с одинаковыми индексами после сортировки! \"Познакомить\" пары нам поможет функция zip, а в цикле распакуем zip-объект и выведем информацию в виде:\n",
    "\n",
    "Идеальные пары:  \n",
    "Alex и Emma  \n",
    "Arthur и Kate  \n",
    "John и Kira  \n",
    "Peter и Liza  \n",
    "Richard и Trisha  "
   ]
  },
  {
   "cell_type": "markdown",
   "metadata": {},
   "source": [
    "**Внимание! Если количество людей в списках будет не совпадать, то мы никого знакомить не будет и выведем пользователю предупреждение, что кто-то может остаться без пары!**"
   ]
  },
  {
   "cell_type": "code",
   "execution_count": 3,
   "metadata": {},
   "outputs": [
    {
     "name": "stdout",
     "output_type": "stream",
     "text": [
      "Идеальные пары:\n",
      "Alex и Emma\n",
      "Arthur и Kate\n",
      "John и Kira\n",
      "Peter и Liza\n",
      "Richard и Trisha\n"
     ]
    }
   ],
   "source": [
    "# проверка совпадения количества парней и девушек\n",
    "\n",
    "# girls = ['Kate', 'Liza', 'Kira', 'Emma'] #- данные для проверки \n",
    "if (len(boys) != len(girls)):\n",
    "    print(f'Количество парней ({len(boys)}) и девушек ({len(girls)}) не совпадает. Кто-то может остаться без пары.')\n",
    "    print('Прошу уточнить исходные данные и перезапустить программу.')\n",
    "else:\n",
    "    pairs = list(zip(sorted(boys), sorted(girls)))  # формирование списка пар из отсортированных списков парней и девушек    \n",
    "    print('Идеальные пары:') # вывод пар\n",
    "    for boy, girl in pairs:\n",
    "        print(boy, 'и', girl)"
   ]
  },
  {
   "cell_type": "markdown",
   "metadata": {},
   "source": [
    "**Задача 3**. У нас есть список, содержащий информацию о среднедневной температуре в Фаренгейтах за недельный период по странам.\n",
    "Необходимо написать код, который рассчитает среднюю температуру за неделю в Цельсиях для каждой страны."
   ]
  },
  {
   "cell_type": "code",
   "execution_count": 4,
   "metadata": {},
   "outputs": [],
   "source": [
    "countries_temperature = [\n",
    " ['Thailand', [75.2, 77, 78.8, 73.4, 68, 75.2, 77]],\n",
    " ['Germany', [57.2, 55.4, 59, 59, 53.6, 55.4, 57.2]],\n",
    " ['Russia', [35.6, 37.4, 39.2, 41, 42.8, 39.2, 35.6]],\n",
    " ['Poland', [50, 50, 53.6, 57.2, 55.4, 55.4, 51.8]],\n",
    " ['ThePole', [5, 5, 3.6, 2, 4, 5.4, 8]],\n",
    "]"
   ]
  },
  {
   "cell_type": "code",
   "execution_count": 5,
   "metadata": {},
   "outputs": [
    {
     "name": "stdout",
     "output_type": "stream",
     "text": [
      "Средняя температура за неделю:\n",
      "Thailand   +23.9 °C\n",
      "Germany    +13.7 °C\n",
      "Russia      +3.7 °C\n",
      "Poland     +11.9 °C\n",
      "ThePole    -15.2 °C\n"
     ]
    }
   ],
   "source": [
    "print('Средняя температура за неделю:')\n",
    "for country, day_temperatures in countries_temperature:\n",
    "    #print(country, day_temperatures)\n",
    "    mean_temperature = sum(day_temperatures)/len(day_temperatures) # средняя температура за неделю в Форенгейтах\n",
    "    mean_temperature = (mean_temperature - 32) * 5 / 9 # перевод в градусы Цельсия\n",
    "    print(f'{country:10} {mean_temperature:+5.1f} °C') # печать результата"
   ]
  },
  {
   "cell_type": "markdown",
   "metadata": {},
   "source": [
    "**Задача 4.** Дан поток логов по количеству просмотренных страниц для каждого пользователя. Список отсортирован по ID пользователя. Вам необходимо написать алгоритм, который считает среднее значение просмотров на пользователя. \n",
    "Т. е. надо посчитать отношение суммы всех просмотров к количеству уникальных пользователей."
   ]
  },
  {
   "cell_type": "code",
   "execution_count": 6,
   "metadata": {},
   "outputs": [],
   "source": [
    "stream = [\n",
    "    '2018-01-01,user1,3',\n",
    "    '2018-01-07,user1,4',\n",
    "    '2018-03-29,user1,1',\n",
    "    '2018-04-04,user1,13',\n",
    "    '2018-01-05,user2,7',\n",
    "    '2018-06-14,user3,4',\n",
    "    '2018-07-02,user3,10',\n",
    "    '2018-03-21,user4,19',\n",
    "    '2018-03-22,user4,4',\n",
    "    '2018-04-22,user4,8',\n",
    "    '2018-05-03,user4,9',\n",
    "    '2018-05-11,user4,11',\n",
    "]"
   ]
  },
  {
   "cell_type": "code",
   "execution_count": 7,
   "metadata": {},
   "outputs": [
    {
     "name": "stdout",
     "output_type": "stream",
     "text": [
      "Cреднее значение просмотров на пользователя: 23.25\n"
     ]
    }
   ],
   "source": [
    "# 1. формирование списков пользователей и количеств просмотренных каждым сайтов\n",
    "users_list = list()  # список пользователей (id)\n",
    "site_viewed = list() # список количества просмотренных сайтов\n",
    "\n",
    "for log in stream:   # перебор каждого лога в потоке\n",
    "    date, user, sites = log.split(',') # достаем данные из лога\n",
    "    sites = int(sites)\n",
    "#     print(date, user, sites)\n",
    "\n",
    "    if user not in users_list: # новый пользователь?\n",
    "        users_list.append(user) # создаем для него новую запись\n",
    "        site_viewed.append(sites)\n",
    "#         print('new user:', user, sites)\n",
    "\n",
    "    else: # такой уже есть в списке\n",
    "        index = users_list.index(user) # порядковый номер пользователя\n",
    "        site_viewed[index] += sites    # + просмотренные сайты          \n",
    "#         print(users_list, site_viewed)\n",
    "\n",
    "# 2. расчет \n",
    "sites_per_user = sum(site_viewed)/len(users_list)\n",
    "print(f'Cреднее значение просмотров на пользователя: {sites_per_user}')"
   ]
  },
  {
   "cell_type": "markdown",
   "metadata": {},
   "source": [
    "**Задача 5**. Дана статистика рекламных кампаний по дням. Напишите алгоритм, который по паре дата-кампания ищет значение численного столбца. \n",
    "Т. е. для даты '2018-01-01' и 'google' нужно получить число 25. \n",
    "Считайте, что все комбинации дата-кампания уникальны."
   ]
  },
  {
   "cell_type": "code",
   "execution_count": 8,
   "metadata": {},
   "outputs": [],
   "source": [
    "stats = [\n",
    "    ['2018-01-01', 'google', 25],\n",
    "    ['2018-01-01', 'yandex', 65],\n",
    "    ['2018-01-01', 'market', 89],\n",
    "    ['2018-01-02', 'google', 574],\n",
    "    ['2018-01-02', 'yandex', 249],\n",
    "    ['2018-01-02', 'market', 994],\n",
    "    ['2018-01-03', 'google', 1843],\n",
    "    ['2018-01-03', 'yandex', 1327],\n",
    "    ['2018-01-03', 'market', 1764],\n",
    "]"
   ]
  },
  {
   "cell_type": "code",
   "execution_count": 9,
   "metadata": {},
   "outputs": [
    {
     "name": "stdout",
     "output_type": "stream",
     "text": [
      "89\n"
     ]
    }
   ],
   "source": [
    "date_target = '2018-01-01'   # исходные данные\n",
    "company_target = 'market'\n",
    "\n",
    "# for item in stats:\n",
    "#     if (date_target in item) and (company_target in item):\n",
    "#         print(item[2])\n",
    "\n",
    "for date, company, num in stats:\n",
    "    if (date_target == date) and (company_target == company): \n",
    "        print(num)  # вывод численного значения"
   ]
  },
  {
   "cell_type": "markdown",
   "metadata": {},
   "source": [
    "**Задача 6**. Дан список вида:"
   ]
  },
  {
   "cell_type": "code",
   "execution_count": 10,
   "metadata": {},
   "outputs": [],
   "source": [
    "data = [\n",
    "    [13, 25, 23, 34],\n",
    "    [45, 32, 44, 47],\n",
    "    [12, 33, 23, 95],\n",
    "    [13, 53, 34, 35],\n",
    "]\n",
    "# data = [\n",
    "#     [13, 25, 23, 34, 1],\n",
    "#     [45, 32, 44, 47, 1],\n",
    "#     [12, 33, 23, 95, 1],\n",
    "#     [13, 53, 34, 35, 1],\n",
    "#     [ 1,  1,  1,  1, 1]\n",
    "# ]"
   ]
  },
  {
   "cell_type": "markdown",
   "metadata": {},
   "source": [
    "Напишите код, который будет вычислять сумму элементов на диагонали. Т. е. 13+32+23+35.  \n",
    "Список может быть любой длины, но всегда является \"квадратным\" (количество элементов во вложенных списках равно их количеству)."
   ]
  },
  {
   "cell_type": "code",
   "execution_count": 11,
   "metadata": {},
   "outputs": [
    {
     "name": "stdout",
     "output_type": "stream",
     "text": [
      "Сумма элементов на диагонали: 103\n"
     ]
    }
   ],
   "source": [
    "diagonal_sum = 0\n",
    "for i in range(len(data)):\n",
    "#      print(data[i][i]) # диагональные элементы\n",
    "     diagonal_sum += data[i][i]\n",
    "print(f'Сумма элементов на диагонали: {diagonal_sum}')"
   ]
  },
  {
   "cell_type": "code",
   "execution_count": null,
   "metadata": {},
   "outputs": [],
   "source": []
  }
 ],
 "metadata": {
  "kernelspec": {
   "display_name": "Python 3",
   "language": "python",
   "name": "python3"
  },
  "language_info": {
   "codemirror_mode": {
    "name": "ipython",
    "version": 3
   },
   "file_extension": ".py",
   "mimetype": "text/x-python",
   "name": "python",
   "nbconvert_exporter": "python",
   "pygments_lexer": "ipython3",
   "version": "3.7.6"
  }
 },
 "nbformat": 4,
 "nbformat_minor": 2
}
