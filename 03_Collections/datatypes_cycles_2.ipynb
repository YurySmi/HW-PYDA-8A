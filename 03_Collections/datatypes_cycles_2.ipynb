{
 "cells": [
  {
   "cell_type": "markdown",
   "metadata": {},
   "source": [
    "**Задание 1**. Дан список с визитами по городам и странам. \n",
    "Напишите код, который возвращает отфильтрованный список geo_logs, содержащий только визиты из России."
   ]
  },
  {
   "cell_type": "code",
   "execution_count": 65,
   "metadata": {},
   "outputs": [],
   "source": [
    "geo_logs = [\n",
    "    {'visit1': ['Москва', 'Россия']},\n",
    "    {'visit2': ['Дели', 'Индия']},\n",
    "    {'visit3': ['Владимир', 'Россия']},\n",
    "    {'visit4': ['Лиссабон', 'Португалия']},\n",
    "    {'visit5': ['Париж', 'Франция']},\n",
    "    {'visit6': ['Лиссабон', 'Португалия']},\n",
    "    {'visit7': ['Тула', 'Россия']},\n",
    "    {'visit8': ['Тула', 'Россия']},\n",
    "    {'visit9': ['Курск', 'Россия']},\n",
    "    {'visit10': ['Архангельск', 'Россия']}\n",
    "]"
   ]
  },
  {
   "cell_type": "code",
   "execution_count": 235,
   "metadata": {},
   "outputs": [
    {
     "name": "stdout",
     "output_type": "stream",
     "text": [
      "{'visit1': ['Москва', 'Россия']}['Москва', 'Россия']  - RU\n",
      "{'visit2': ['Дели', 'Индия']}['Дели', 'Индия']  - not RU\n",
      "{'visit3': ['Владимир', 'Россия']}['Владимир', 'Россия']  - RU\n",
      "{'visit4': ['Лиссабон', 'Португалия']}['Лиссабон', 'Португалия']  - not RU\n",
      "{'visit5': ['Париж', 'Франция']}['Париж', 'Франция']  - not RU\n",
      "{'visit6': ['Лиссабон', 'Португалия']}['Лиссабон', 'Португалия']  - not RU\n",
      "{'visit7': ['Тула', 'Россия']}['Тула', 'Россия']  - RU\n",
      "{'visit8': ['Тула', 'Россия']}['Тула', 'Россия']  - RU\n",
      "{'visit9': ['Курск', 'Россия']}['Курск', 'Россия']  - RU\n",
      "{'visit10': ['Архангельск', 'Россия']}['Архангельск', 'Россия']  - RU\n"
     ]
    },
    {
     "data": {
      "text/plain": [
       "[{'visit1': ['Москва', 'Россия']},\n",
       " {'visit3': ['Владимир', 'Россия']},\n",
       " {'visit7': ['Тула', 'Россия']},\n",
       " {'visit8': ['Тула', 'Россия']},\n",
       " {'visit9': ['Курск', 'Россия']},\n",
       " {'visit10': ['Архангельск', 'Россия']}]"
      ]
     },
     "execution_count": 235,
     "metadata": {},
     "output_type": "execute_result"
    }
   ],
   "source": [
    "# решение через циклы (перебор)\n",
    "geo_logs_Ru = list() # новый список - для визитов в Россию\n",
    "# print(geo_logs_Ru)\n",
    "for visit in geo_logs: # перебор всех визитов\n",
    "    print(visit, end = '')\n",
    "    place =  list(visit.values()) # дость из из элемента списка - словаря - место визита [['город', 'страна']]\n",
    "    print(place[0], end = '')\n",
    "    if 'Россия' in place[0]: # Россия?\n",
    "        print('  - RU')\n",
    "        geo_logs_Ru.append(visit) # в новый список добавить запись о визите в Россию\n",
    "    else:\n",
    "         print('  - not RU')\n",
    "\n",
    "geo_logs_Ru # результат\n",
    "        "
   ]
  },
  {
   "cell_type": "code",
   "execution_count": 77,
   "metadata": {},
   "outputs": [
    {
     "name": "stdout",
     "output_type": "stream",
     "text": [
      "[{'visit1': ['Москва', 'Россия']}, {'visit3': ['Владимир', 'Россия']}, {'visit7': ['Тула', 'Россия']}, {'visit8': ['Тула', 'Россия']}, {'visit9': ['Курск', 'Россия']}, {'visit10': ['Архангельск', 'Россия']}]\n"
     ]
    }
   ],
   "source": [
    "# решение через List comprehension\n",
    "geo_logs_Ru2 = [visit for visit in geo_logs if 'Россия' in list(visit.values())[0]]\n",
    "print(geo_logs_Ru2)"
   ]
  },
  {
   "cell_type": "markdown",
   "metadata": {},
   "source": [
    "**Задание 2**. Выведите на экран все уникальные гео-ID из значений словаря ids. Т. е. список вида [213, 15, 54, 119, 98, 35]"
   ]
  },
  {
   "cell_type": "code",
   "execution_count": 83,
   "metadata": {},
   "outputs": [],
   "source": [
    "ids = {'user1': [213, 213, 213, 15, 213], \n",
    "       'user2': [54, 54, 119, 119, 119], \n",
    "       'user3': [213, 98, 98, 35]}"
   ]
  },
  {
   "cell_type": "code",
   "execution_count": 110,
   "metadata": {},
   "outputs": [
    {
     "name": "stdout",
     "output_type": "stream",
     "text": [
      "[98, 35, 15, 213, 54, 119]\n"
     ]
    }
   ],
   "source": [
    "geo_ID_set = set() # множество для уникальных гео-ID\n",
    "for geo_ID in ids.values(): # перебор всех списов с гео-ID\n",
    "    geo_ID_set.update(geo_ID) # соединение итогого множества с очерендным словарем  гео-ID\n",
    "print(list(geo_ID_set))    # вывод на экран уникальные гео-ID в виде СПИСКА\n"
   ]
  },
  {
   "cell_type": "markdown",
   "metadata": {},
   "source": [
    "**Задание 3**. Дан список поисковых запросов. Получить распределение количества слов в них. \n",
    "Т. е. поисковых запросов из одного - слова 5%, из двух - 7%, из трех - 3% и т.д."
   ]
  },
  {
   "cell_type": "code",
   "execution_count": 118,
   "metadata": {},
   "outputs": [],
   "source": [
    "queries = [\n",
    "    'смотреть сериалы онлайн',\n",
    "    'новости спорта',\n",
    "    'афиша кино',\n",
    "    'курс доллара',\n",
    "    'сериалы этим летом',\n",
    "    'курс по питону',\n",
    "    'сериалы про спорт',\n",
    "]"
   ]
  },
  {
   "cell_type": "code",
   "execution_count": 161,
   "metadata": {},
   "outputs": [
    {
     "name": "stdout",
     "output_type": "stream",
     "text": [
      "Доля поисковых запросов, содержащих 3 слово(ов) - 57 %\n",
      "Доля поисковых запросов, содержащих 2 слово(ов) - 43 %\n"
     ]
    }
   ],
   "source": [
    "word_distribution = dict()\n",
    "\n",
    "# 1. подсчет количества слов в запросе и формирование словаря {количество слов в запросе : количество таких запросов}:\n",
    "for query in queries: \n",
    "    length_key = len(query.split(' ')) # количество слов в очередном запросе\n",
    "\n",
    "    # вариант с if-ами\n",
    "    #     if length_key in word_distribution:\n",
    "#         word_distribution[length_key] += 1\n",
    "#     else:\n",
    "#         word_distribution[length_key] = 1\n",
    "\n",
    "# вариант по-короче\n",
    "# если ключа нет - добавляется со значением (0 + 1), если есть - (текущее значение + 1)\n",
    "    word_distribution[length_key] = word_distribution.setdefault(length_key,0) + 1 \n",
    "#     print(query.split(' '),  ' = ', length_key, word_distribution) тест печать\n",
    "\n",
    "\n",
    "# 2. перевод количества запросов в проценты:\n",
    "word_distribution = {length: round(amount/len(queries)*100) for (length, amount) in word_distribution.items()}\n",
    "\n",
    "# через цикл\n",
    "# for (length, amount) in word_distribution.items():    \n",
    "#     word_distribution[length] = round(amount / len(queries)*100.)\n",
    "\n",
    "# словарь word_distribution содержит результат - распределение запросов по количеству слов\n",
    "# вывод результата\n",
    "for (length, amount) in word_distribution.items():    \n",
    "    print(f'Доля поисковых запросов, содержащих {length} слово(ов) - {amount} %')"
   ]
  },
  {
   "cell_type": "markdown",
   "metadata": {},
   "source": [
    "**Задание 4**. Дана статистика рекламных каналов по объемам продаж. Напишите скрипт, который возвращает название канала с максимальным объемом.\n",
    "Т. е. в данном примере скрипт должен возвращать 'yandex'."
   ]
  },
  {
   "cell_type": "code",
   "execution_count": 178,
   "metadata": {},
   "outputs": [],
   "source": [
    "stats = {'facebook': 55, 'yandex': 120, 'vk': 115, 'google': 99, 'email': 42, 'ok': 98}"
   ]
  },
  {
   "cell_type": "code",
   "execution_count": 179,
   "metadata": {},
   "outputs": [
    {
     "name": "stdout",
     "output_type": "stream",
     "text": [
      "yandex\n"
     ]
    }
   ],
   "source": [
    "# 1. поиск максимального объема продаж в статистике\n",
    "max_volume = max(stats.values())\n",
    "\n",
    "# 2. печать строк, соответствующих максимуму (каналов с максимальным объемом м.б. несколько )\n",
    "for channel, volume in stats.items():\n",
    "    if volume == max_volume:\n",
    "        print(channel)"
   ]
  },
  {
   "cell_type": "markdown",
   "metadata": {},
   "source": [
    "**Задание 5**. Напишите код для преобразования произвольного списка вида ['2018-01-01', 'yandex', 'cpc', 100] (он может быть любой длины) в словарь {'2018-01-01': {'yandex': {'cpc': 100}}}"
   ]
  },
  {
   "cell_type": "code",
   "execution_count": 236,
   "metadata": {},
   "outputs": [
    {
     "name": "stdout",
     "output_type": "stream",
     "text": [
      "{'2018-01-01': {'yandex': {'cpc': 100}}}\n"
     ]
    }
   ],
   "source": [
    "my_list = ['2018-01-01', 'yandex', 'cpc', 100]\n",
    "\n",
    "my_dict = dict() # словарь для результата\n",
    "\n",
    "if len(my_list) <2:  # задача не имеет решения, если список пуст или содержит только один элемент\n",
    "    print('Слишком малый список - не свернуть во вложенный словарь!')\n",
    "else:\n",
    "    # первый элемент словаря: ключ - предпоследний элемент списка, значение - последний       \n",
    "    my_dict[my_list[-2]] = my_list[-1] \n",
    "    del(my_list[-1]) # последний элемент списка использован - удалить его\n",
    "    #    \n",
    "    while len(my_list)>1: # делаем, пока в оставшемся списке как минимум два элемента\n",
    "        my_dict2 = dict() # временный пустой словарь\n",
    "        # в пустом словаре пара: ключ - предпоследний элемент списка, значение - предыдущий словарь\n",
    "        my_dict2[my_list[-2]] = my_dict    \n",
    "        my_dict = dict(my_dict2) # копия\n",
    "        del(my_list[-1]) # \n",
    "#         print(my_list, my_dict)\n",
    "    print(my_dict) # вывод результата"
   ]
  },
  {
   "cell_type": "code",
   "execution_count": null,
   "metadata": {},
   "outputs": [],
   "source": []
  }
 ],
 "metadata": {
  "kernelspec": {
   "display_name": "Python 3",
   "language": "python",
   "name": "python3"
  },
  "language_info": {
   "codemirror_mode": {
    "name": "ipython",
    "version": 3
   },
   "file_extension": ".py",
   "mimetype": "text/x-python",
   "name": "python",
   "nbconvert_exporter": "python",
   "pygments_lexer": "ipython3",
   "version": "3.7.6"
  }
 },
 "nbformat": 4,
 "nbformat_minor": 2
}
