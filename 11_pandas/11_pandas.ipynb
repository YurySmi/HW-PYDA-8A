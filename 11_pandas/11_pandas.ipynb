{
 "cells": [
  {
   "cell_type": "markdown",
   "metadata": {},
   "source": [
    "# Домашнее задание к лекции \"Библиотека Pandas\""
   ]
  },
  {
   "cell_type": "markdown",
   "metadata": {},
   "source": [
    "## Задание 1"
   ]
  },
  {
   "cell_type": "markdown",
   "metadata": {},
   "source": [
    "Скачайте с сайта https://grouplens.org/datasets/movielens/ датасет любого размера. Определите какому фильму было выставлено больше всего оценок 5.0."
   ]
  },
  {
   "cell_type": "code",
   "execution_count": 1,
   "metadata": {},
   "outputs": [
    {
     "data": {
      "text/html": [
       "<div>\n",
       "<style scoped>\n",
       "    .dataframe tbody tr th:only-of-type {\n",
       "        vertical-align: middle;\n",
       "    }\n",
       "\n",
       "    .dataframe tbody tr th {\n",
       "        vertical-align: top;\n",
       "    }\n",
       "\n",
       "    .dataframe thead th {\n",
       "        text-align: right;\n",
       "    }\n",
       "</style>\n",
       "<table border=\"1\" class=\"dataframe\">\n",
       "  <thead>\n",
       "    <tr style=\"text-align: right;\">\n",
       "      <th></th>\n",
       "      <th>UserID</th>\n",
       "      <th>MovieID</th>\n",
       "      <th>Rating</th>\n",
       "      <th>Timestamp</th>\n",
       "      <th>Title</th>\n",
       "      <th>Genre</th>\n",
       "    </tr>\n",
       "  </thead>\n",
       "  <tbody>\n",
       "    <tr>\n",
       "      <th>0</th>\n",
       "      <td>1</td>\n",
       "      <td>661</td>\n",
       "      <td>3</td>\n",
       "      <td>978302109</td>\n",
       "      <td>James and the Giant Peach (1996)</td>\n",
       "      <td>Animation|Children's|Musical</td>\n",
       "    </tr>\n",
       "    <tr>\n",
       "      <th>1</th>\n",
       "      <td>1</td>\n",
       "      <td>914</td>\n",
       "      <td>3</td>\n",
       "      <td>978301968</td>\n",
       "      <td>My Fair Lady (1964)</td>\n",
       "      <td>Musical|Romance</td>\n",
       "    </tr>\n",
       "    <tr>\n",
       "      <th>2</th>\n",
       "      <td>1</td>\n",
       "      <td>3408</td>\n",
       "      <td>4</td>\n",
       "      <td>978300275</td>\n",
       "      <td>Erin Brockovich (2000)</td>\n",
       "      <td>Drama</td>\n",
       "    </tr>\n",
       "    <tr>\n",
       "      <th>3</th>\n",
       "      <td>1</td>\n",
       "      <td>2355</td>\n",
       "      <td>5</td>\n",
       "      <td>978824291</td>\n",
       "      <td>Bug's Life, A (1998)</td>\n",
       "      <td>Animation|Children's|Comedy</td>\n",
       "    </tr>\n",
       "    <tr>\n",
       "      <th>4</th>\n",
       "      <td>1</td>\n",
       "      <td>1197</td>\n",
       "      <td>3</td>\n",
       "      <td>978302268</td>\n",
       "      <td>Princess Bride, The (1987)</td>\n",
       "      <td>Action|Adventure|Comedy|Romance</td>\n",
       "    </tr>\n",
       "  </tbody>\n",
       "</table>\n",
       "</div>"
      ],
      "text/plain": [
       "   UserID  MovieID  Rating  Timestamp                             Title  \\\n",
       "0       1      661       3  978302109  James and the Giant Peach (1996)   \n",
       "1       1      914       3  978301968               My Fair Lady (1964)   \n",
       "2       1     3408       4  978300275            Erin Brockovich (2000)   \n",
       "3       1     2355       5  978824291              Bug's Life, A (1998)   \n",
       "4       1     1197       3  978302268        Princess Bride, The (1987)   \n",
       "\n",
       "                             Genre  \n",
       "0     Animation|Children's|Musical  \n",
       "1                  Musical|Romance  \n",
       "2                            Drama  \n",
       "3      Animation|Children's|Comedy  \n",
       "4  Action|Adventure|Comedy|Romance  "
      ]
     },
     "execution_count": 1,
     "metadata": {},
     "output_type": "execute_result"
    }
   ],
   "source": [
    "import pandas as pd\n",
    "\n",
    "\n",
    "# MovieLens 1M Dataset https://grouplens.org/datasets/movielens/1m/\n",
    "rating_data = pd.read_csv('ml-1m/ratings.dat', engine='python', header=0, names=['UserID', 'MovieID', 'Rating', 'Timestamp'],sep = '::')\n",
    "movie_name_data = pd.read_csv('ml-1m/movies.dat', engine='python', header=0, names=['MovieID', 'Title','Genre'], sep = '::')\n",
    "movie_data = rating_data.merge(movie_name_data, on='MovieID', how='left')\n",
    "# rating_data.head()\n",
    "# movie_name_data.head()\n",
    "movie_data.head()"
   ]
  },
  {
   "cell_type": "code",
   "execution_count": 2,
   "metadata": {},
   "outputs": [
    {
     "data": {
      "text/plain": [
       "American Beauty (1999)                                   1963\n",
       "Star Wars: Episode IV - A New Hope (1977)                1826\n",
       "Raiders of the Lost Ark (1981)                           1500\n",
       "Star Wars: Episode V - The Empire Strikes Back (1980)    1483\n",
       "Schindler's List (1993)                                  1475\n",
       "Name: Title, dtype: int64"
      ]
     },
     "execution_count": 2,
     "metadata": {},
     "output_type": "execute_result"
    }
   ],
   "source": [
    "movie_data[movie_data.Rating==5].Title.value_counts().head()"
   ]
  },
  {
   "cell_type": "markdown",
   "metadata": {},
   "source": [
    "Наибольшее количество оценок 5 выставлено фильму 'American Beauty (1999)'"
   ]
  },
  {
   "cell_type": "markdown",
   "metadata": {},
   "source": [
    "## Задание 2"
   ]
  },
  {
   "cell_type": "markdown",
   "metadata": {},
   "source": [
    "По данным файла power.csv посчитайте суммарное потребление стран Прибалтики (Латвия, Литва и Эстония) категорий 4, 12 и 21 за период с 2005 по 2010 года. Не учитывайте в расчетах отрицательные значения quantity."
   ]
  },
  {
   "cell_type": "code",
   "execution_count": 3,
   "metadata": {},
   "outputs": [
    {
     "data": {
      "text/plain": [
       "970728.0"
      ]
     },
     "execution_count": 3,
     "metadata": {},
     "output_type": "execute_result"
    }
   ],
   "source": [
    "power_data = pd.read_csv('power.csv')\n",
    "Baltic_country = ['Latvia', 'Lithuania', 'Estonia']\n",
    "category = [4, 12, 21]\n",
    "# power_data[power_data.country in Baltic_country].head()\n",
    "# power_data[power_data['country'].str.contains('Esto', case=False) ]['country'].unique()\n",
    "power_data[power_data.country.isin(Baltic_country) \\\n",
    "           & power_data.category.isin(category) \\\n",
    "           & (power_data.quantity > 0) ].quantity.sum()"
   ]
  },
  {
   "cell_type": "markdown",
   "metadata": {},
   "source": [
    "## Задание 3"
   ]
  },
  {
   "cell_type": "markdown",
   "metadata": {},
   "source": [
    "Выберите страницу любого сайта с табличными данными. Импортируйте таблицы в pandas dataframe.\n",
    "Примеры страниц (необязательно брать именно эти):\n",
    "https://fortrader.org/quotes\n",
    "https://www.finanz.ru/valyuty/v-realnom-vremeni"
   ]
  },
  {
   "cell_type": "code",
   "execution_count": 4,
   "metadata": {},
   "outputs": [],
   "source": [
    "page_url = 'https://www.finanz.ru/aktsii/realnom-vremeni-spisok/micex'\n",
    "df = pd.read_html(page_url, attrs = {'class': 'quote_list'}, encoding='utf-8')[0]"
   ]
  },
  {
   "cell_type": "code",
   "execution_count": 5,
   "metadata": {
    "scrolled": true
   },
   "outputs": [
    {
     "data": {
      "text/html": [
       "<div>\n",
       "<style scoped>\n",
       "    .dataframe tbody tr th:only-of-type {\n",
       "        vertical-align: middle;\n",
       "    }\n",
       "\n",
       "    .dataframe tbody tr th {\n",
       "        vertical-align: top;\n",
       "    }\n",
       "\n",
       "    .dataframe thead th {\n",
       "        text-align: right;\n",
       "    }\n",
       "</style>\n",
       "<table border=\"1\" class=\"dataframe\">\n",
       "  <thead>\n",
       "    <tr style=\"text-align: right;\">\n",
       "      <th></th>\n",
       "      <th>Unnamed: 0</th>\n",
       "      <th>Имя  function __handleSortingClick(componentName, fieldName, sortOrder) {  $.ajax({  url: \"/Ajax/IndexShareListForRealtime/MICEX\",  type: \"post\",  data: \"orderBy=\" + componentName + \":\" + fieldName + \":\" + sortOrder,  success: function (v, x) {  $('#index-list-container').html(v);  try { trackPI(); } catch (e) { }  },  error: function () {  }  });  }</th>\n",
       "      <th>ISIN</th>\n",
       "      <th>Пред. закр.</th>\n",
       "      <th>Посл. зн.</th>\n",
       "      <th>Объём</th>\n",
       "      <th>%</th>\n",
       "      <th>+/-</th>\n",
       "      <th>Время</th>\n",
       "    </tr>\n",
       "  </thead>\n",
       "  <tbody>\n",
       "    <tr>\n",
       "      <th>0</th>\n",
       "      <td>NaN</td>\n",
       "      <td>Aeroflot - Russian Airlines</td>\n",
       "      <td>RU0009062285</td>\n",
       "      <td>7328</td>\n",
       "      <td>7420</td>\n",
       "      <td>1 256 218 831,00</td>\n",
       "      <td>1,26 %</td>\n",
       "      <td>092</td>\n",
       "      <td>18:29:24</td>\n",
       "    </tr>\n",
       "    <tr>\n",
       "      <th>1</th>\n",
       "      <td>NaN</td>\n",
       "      <td>ALROSA</td>\n",
       "      <td>RU0007252813</td>\n",
       "      <td>6002</td>\n",
       "      <td>6002</td>\n",
       "      <td>1 359 789 106,00</td>\n",
       "      <td>0,00 %</td>\n",
       "      <td>000</td>\n",
       "      <td>18:29:24</td>\n",
       "    </tr>\n",
       "    <tr>\n",
       "      <th>2</th>\n",
       "      <td>NaN</td>\n",
       "      <td>Credit Bank of Moscow</td>\n",
       "      <td>RU000A0JUG31</td>\n",
       "      <td>531</td>\n",
       "      <td>524</td>\n",
       "      <td>324 447 049,00</td>\n",
       "      <td>-1,37 %</td>\n",
       "      <td>-007</td>\n",
       "      <td>18:28:37</td>\n",
       "    </tr>\n",
       "    <tr>\n",
       "      <th>3</th>\n",
       "      <td>NaN</td>\n",
       "      <td>Federal Grid</td>\n",
       "      <td>RU000A0JPNN9</td>\n",
       "      <td>017</td>\n",
       "      <td>017</td>\n",
       "      <td>433 104 206,00</td>\n",
       "      <td>-0,13 %</td>\n",
       "      <td>000</td>\n",
       "      <td>18:29:25</td>\n",
       "    </tr>\n",
       "    <tr>\n",
       "      <th>4</th>\n",
       "      <td>NaN</td>\n",
       "      <td>GAZPROM PJSC</td>\n",
       "      <td>RU0007661625</td>\n",
       "      <td>18551</td>\n",
       "      <td>18259</td>\n",
       "      <td>11 676 582 512,00</td>\n",
       "      <td>-1,57 %</td>\n",
       "      <td>-292</td>\n",
       "      <td>18:29:26</td>\n",
       "    </tr>\n",
       "  </tbody>\n",
       "</table>\n",
       "</div>"
      ],
      "text/plain": [
       "   Unnamed: 0  \\\n",
       "0         NaN   \n",
       "1         NaN   \n",
       "2         NaN   \n",
       "3         NaN   \n",
       "4         NaN   \n",
       "\n",
       "  Имя  function __handleSortingClick(componentName, fieldName, sortOrder) {  $.ajax({  url: \"/Ajax/IndexShareListForRealtime/MICEX\",  type: \"post\",  data: \"orderBy=\" + componentName + \":\" + fieldName + \":\" + sortOrder,  success: function (v, x) {  $('#index-list-container').html(v);  try { trackPI(); } catch (e) { }  },  error: function () {  }  });  }  \\\n",
       "0                        Aeroflot - Russian Airlines                                                                                                                                                                                                                                                                                                                 \n",
       "1                                             ALROSA                                                                                                                                                                                                                                                                                                                 \n",
       "2                              Credit Bank of Moscow                                                                                                                                                                                                                                                                                                                 \n",
       "3                                       Federal Grid                                                                                                                                                                                                                                                                                                                 \n",
       "4                                       GAZPROM PJSC                                                                                                                                                                                                                                                                                                                 \n",
       "\n",
       "           ISIN Пред. закр. Посл. зн.              Объём        %   +/-  \\\n",
       "0  RU0009062285        7328      7420   1 256 218 831,00   1,26 %   092   \n",
       "1  RU0007252813        6002      6002   1 359 789 106,00   0,00 %   000   \n",
       "2  RU000A0JUG31         531       524     324 447 049,00  -1,37 %  -007   \n",
       "3  RU000A0JPNN9         017       017     433 104 206,00  -0,13 %   000   \n",
       "4  RU0007661625       18551     18259  11 676 582 512,00  -1,57 %  -292   \n",
       "\n",
       "      Время  \n",
       "0  18:29:24  \n",
       "1  18:29:24  \n",
       "2  18:28:37  \n",
       "3  18:29:25  \n",
       "4  18:29:26  "
      ]
     },
     "execution_count": 5,
     "metadata": {},
     "output_type": "execute_result"
    }
   ],
   "source": [
    "df.head()"
   ]
  },
  {
   "cell_type": "code",
   "execution_count": 6,
   "metadata": {},
   "outputs": [],
   "source": [
    "del df['Unnamed: 0']\n",
    "df.columns = ['Имя','ISIN', 'Пред. закр.', 'Посл. зн.', 'Объём', '%', '+/-', 'Время']"
   ]
  },
  {
   "cell_type": "code",
   "execution_count": 7,
   "metadata": {},
   "outputs": [
    {
     "data": {
      "text/html": [
       "<div>\n",
       "<style scoped>\n",
       "    .dataframe tbody tr th:only-of-type {\n",
       "        vertical-align: middle;\n",
       "    }\n",
       "\n",
       "    .dataframe tbody tr th {\n",
       "        vertical-align: top;\n",
       "    }\n",
       "\n",
       "    .dataframe thead th {\n",
       "        text-align: right;\n",
       "    }\n",
       "</style>\n",
       "<table border=\"1\" class=\"dataframe\">\n",
       "  <thead>\n",
       "    <tr style=\"text-align: right;\">\n",
       "      <th></th>\n",
       "      <th>Имя</th>\n",
       "      <th>ISIN</th>\n",
       "      <th>Пред. закр.</th>\n",
       "      <th>Посл. зн.</th>\n",
       "      <th>Объём</th>\n",
       "      <th>%</th>\n",
       "      <th>+/-</th>\n",
       "      <th>Время</th>\n",
       "    </tr>\n",
       "  </thead>\n",
       "  <tbody>\n",
       "    <tr>\n",
       "      <th>0</th>\n",
       "      <td>Aeroflot - Russian Airlines</td>\n",
       "      <td>RU0009062285</td>\n",
       "      <td>7328</td>\n",
       "      <td>7420</td>\n",
       "      <td>1 256 218 831,00</td>\n",
       "      <td>1,26 %</td>\n",
       "      <td>092</td>\n",
       "      <td>18:29:24</td>\n",
       "    </tr>\n",
       "    <tr>\n",
       "      <th>1</th>\n",
       "      <td>ALROSA</td>\n",
       "      <td>RU0007252813</td>\n",
       "      <td>6002</td>\n",
       "      <td>6002</td>\n",
       "      <td>1 359 789 106,00</td>\n",
       "      <td>0,00 %</td>\n",
       "      <td>000</td>\n",
       "      <td>18:29:24</td>\n",
       "    </tr>\n",
       "    <tr>\n",
       "      <th>2</th>\n",
       "      <td>Credit Bank of Moscow</td>\n",
       "      <td>RU000A0JUG31</td>\n",
       "      <td>531</td>\n",
       "      <td>524</td>\n",
       "      <td>324 447 049,00</td>\n",
       "      <td>-1,37 %</td>\n",
       "      <td>-007</td>\n",
       "      <td>18:28:37</td>\n",
       "    </tr>\n",
       "    <tr>\n",
       "      <th>3</th>\n",
       "      <td>Federal Grid</td>\n",
       "      <td>RU000A0JPNN9</td>\n",
       "      <td>017</td>\n",
       "      <td>017</td>\n",
       "      <td>433 104 206,00</td>\n",
       "      <td>-0,13 %</td>\n",
       "      <td>000</td>\n",
       "      <td>18:29:25</td>\n",
       "    </tr>\n",
       "    <tr>\n",
       "      <th>4</th>\n",
       "      <td>GAZPROM PJSC</td>\n",
       "      <td>RU0007661625</td>\n",
       "      <td>18551</td>\n",
       "      <td>18259</td>\n",
       "      <td>11 676 582 512,00</td>\n",
       "      <td>-1,57 %</td>\n",
       "      <td>-292</td>\n",
       "      <td>18:29:26</td>\n",
       "    </tr>\n",
       "  </tbody>\n",
       "</table>\n",
       "</div>"
      ],
      "text/plain": [
       "                           Имя          ISIN Пред. закр. Посл. зн.  \\\n",
       "0  Aeroflot - Russian Airlines  RU0009062285        7328      7420   \n",
       "1                       ALROSA  RU0007252813        6002      6002   \n",
       "2        Credit Bank of Moscow  RU000A0JUG31         531       524   \n",
       "3                 Federal Grid  RU000A0JPNN9         017       017   \n",
       "4                 GAZPROM PJSC  RU0007661625       18551     18259   \n",
       "\n",
       "               Объём        %   +/-     Время  \n",
       "0   1 256 218 831,00   1,26 %   092  18:29:24  \n",
       "1   1 359 789 106,00   0,00 %   000  18:29:24  \n",
       "2     324 447 049,00  -1,37 %  -007  18:28:37  \n",
       "3     433 104 206,00  -0,13 %   000  18:29:25  \n",
       "4  11 676 582 512,00  -1,57 %  -292  18:29:26  "
      ]
     },
     "execution_count": 7,
     "metadata": {},
     "output_type": "execute_result"
    }
   ],
   "source": [
    "df.head()"
   ]
  },
  {
   "cell_type": "code",
   "execution_count": null,
   "metadata": {},
   "outputs": [],
   "source": []
  },
  {
   "cell_type": "code",
   "execution_count": null,
   "metadata": {},
   "outputs": [],
   "source": []
  }
 ],
 "metadata": {
  "kernelspec": {
   "display_name": "Python 3",
   "language": "python",
   "name": "python3"
  },
  "language_info": {
   "codemirror_mode": {
    "name": "ipython",
    "version": 3
   },
   "file_extension": ".py",
   "mimetype": "text/x-python",
   "name": "python",
   "nbconvert_exporter": "python",
   "pygments_lexer": "ipython3",
   "version": "3.7.6"
  }
 },
 "nbformat": 4,
 "nbformat_minor": 4
}
