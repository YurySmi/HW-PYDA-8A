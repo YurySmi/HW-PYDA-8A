{
 "cells": [
  {
   "cell_type": "markdown",
   "metadata": {},
   "source": [
    "# Домашнее задание \"Визуализация данных в Python\""
   ]
  },
  {
   "cell_type": "markdown",
   "metadata": {},
   "source": [
    "## DataSet:\n",
    "[Novel Corona Virus 2019 Dataset](https://www.kaggle.com/sudalairajkumar/novel-corona-virus-2019-dataset/data)"
   ]
  },
  {
   "cell_type": "code",
   "execution_count": 1,
   "metadata": {},
   "outputs": [],
   "source": [
    "import pandas as pd\n",
    "import matplotlib.pyplot as plt\n",
    "import seaborn as sns\n",
    "\n",
    "from pylab import rcParams\n",
    "rcParams['figure.figsize'] = 12,7"
   ]
  },
  {
   "cell_type": "code",
   "execution_count": 2,
   "metadata": {},
   "outputs": [],
   "source": [
    "df = pd.read_csv('novel_corona\\covid_19_data.csv')\n",
    "# df.head()"
   ]
  },
  {
   "cell_type": "code",
   "execution_count": 3,
   "metadata": {},
   "outputs": [
    {
     "data": {
      "text/html": [
       "<div>\n",
       "<style scoped>\n",
       "    .dataframe tbody tr th:only-of-type {\n",
       "        vertical-align: middle;\n",
       "    }\n",
       "\n",
       "    .dataframe tbody tr th {\n",
       "        vertical-align: top;\n",
       "    }\n",
       "\n",
       "    .dataframe thead th {\n",
       "        text-align: right;\n",
       "    }\n",
       "</style>\n",
       "<table border=\"1\" class=\"dataframe\">\n",
       "  <thead>\n",
       "    <tr style=\"text-align: right;\">\n",
       "      <th></th>\n",
       "      <th>State</th>\n",
       "      <th>Country</th>\n",
       "      <th>Confirmed</th>\n",
       "      <th>Deaths</th>\n",
       "      <th>Recovered</th>\n",
       "      <th>Date</th>\n",
       "    </tr>\n",
       "  </thead>\n",
       "  <tbody>\n",
       "    <tr>\n",
       "      <th>0</th>\n",
       "      <td>Anhui</td>\n",
       "      <td>Mainland China</td>\n",
       "      <td>1.0</td>\n",
       "      <td>0.0</td>\n",
       "      <td>0.0</td>\n",
       "      <td>2020-01-22</td>\n",
       "    </tr>\n",
       "    <tr>\n",
       "      <th>1</th>\n",
       "      <td>Beijing</td>\n",
       "      <td>Mainland China</td>\n",
       "      <td>14.0</td>\n",
       "      <td>0.0</td>\n",
       "      <td>0.0</td>\n",
       "      <td>2020-01-22</td>\n",
       "    </tr>\n",
       "    <tr>\n",
       "      <th>2</th>\n",
       "      <td>Chongqing</td>\n",
       "      <td>Mainland China</td>\n",
       "      <td>6.0</td>\n",
       "      <td>0.0</td>\n",
       "      <td>0.0</td>\n",
       "      <td>2020-01-22</td>\n",
       "    </tr>\n",
       "    <tr>\n",
       "      <th>3</th>\n",
       "      <td>Fujian</td>\n",
       "      <td>Mainland China</td>\n",
       "      <td>1.0</td>\n",
       "      <td>0.0</td>\n",
       "      <td>0.0</td>\n",
       "      <td>2020-01-22</td>\n",
       "    </tr>\n",
       "    <tr>\n",
       "      <th>4</th>\n",
       "      <td>Gansu</td>\n",
       "      <td>Mainland China</td>\n",
       "      <td>0.0</td>\n",
       "      <td>0.0</td>\n",
       "      <td>0.0</td>\n",
       "      <td>2020-01-22</td>\n",
       "    </tr>\n",
       "    <tr>\n",
       "      <th>...</th>\n",
       "      <td>...</td>\n",
       "      <td>...</td>\n",
       "      <td>...</td>\n",
       "      <td>...</td>\n",
       "      <td>...</td>\n",
       "      <td>...</td>\n",
       "    </tr>\n",
       "    <tr>\n",
       "      <th>23799</th>\n",
       "      <td>Wyoming</td>\n",
       "      <td>US</td>\n",
       "      <td>669.0</td>\n",
       "      <td>7.0</td>\n",
       "      <td>0.0</td>\n",
       "      <td>2020-05-11</td>\n",
       "    </tr>\n",
       "    <tr>\n",
       "      <th>23800</th>\n",
       "      <td>Xinjiang</td>\n",
       "      <td>Mainland China</td>\n",
       "      <td>76.0</td>\n",
       "      <td>3.0</td>\n",
       "      <td>73.0</td>\n",
       "      <td>2020-05-11</td>\n",
       "    </tr>\n",
       "    <tr>\n",
       "      <th>23801</th>\n",
       "      <td>Yukon</td>\n",
       "      <td>Canada</td>\n",
       "      <td>11.0</td>\n",
       "      <td>0.0</td>\n",
       "      <td>0.0</td>\n",
       "      <td>2020-05-11</td>\n",
       "    </tr>\n",
       "    <tr>\n",
       "      <th>23802</th>\n",
       "      <td>Yunnan</td>\n",
       "      <td>Mainland China</td>\n",
       "      <td>185.0</td>\n",
       "      <td>2.0</td>\n",
       "      <td>183.0</td>\n",
       "      <td>2020-05-11</td>\n",
       "    </tr>\n",
       "    <tr>\n",
       "      <th>23803</th>\n",
       "      <td>Zhejiang</td>\n",
       "      <td>Mainland China</td>\n",
       "      <td>1268.0</td>\n",
       "      <td>1.0</td>\n",
       "      <td>1267.0</td>\n",
       "      <td>2020-05-11</td>\n",
       "    </tr>\n",
       "  </tbody>\n",
       "</table>\n",
       "<p>23804 rows × 6 columns</p>\n",
       "</div>"
      ],
      "text/plain": [
       "           State         Country  Confirmed  Deaths  Recovered       Date\n",
       "0          Anhui  Mainland China        1.0     0.0        0.0 2020-01-22\n",
       "1        Beijing  Mainland China       14.0     0.0        0.0 2020-01-22\n",
       "2      Chongqing  Mainland China        6.0     0.0        0.0 2020-01-22\n",
       "3         Fujian  Mainland China        1.0     0.0        0.0 2020-01-22\n",
       "4          Gansu  Mainland China        0.0     0.0        0.0 2020-01-22\n",
       "...          ...             ...        ...     ...        ...        ...\n",
       "23799    Wyoming              US      669.0     7.0        0.0 2020-05-11\n",
       "23800   Xinjiang  Mainland China       76.0     3.0       73.0 2020-05-11\n",
       "23801      Yukon          Canada       11.0     0.0        0.0 2020-05-11\n",
       "23802     Yunnan  Mainland China      185.0     2.0      183.0 2020-05-11\n",
       "23803   Zhejiang  Mainland China     1268.0     1.0     1267.0 2020-05-11\n",
       "\n",
       "[23804 rows x 6 columns]"
      ]
     },
     "execution_count": 3,
     "metadata": {},
     "output_type": "execute_result"
    }
   ],
   "source": [
    "## подготовка столбцов\n",
    "df['Date'] = pd.to_datetime(df['ObservationDate'], format='%m/%d/%Y')\n",
    "df.drop(['ObservationDate', 'Last Update', 'SNo'], axis=1, inplace=True)\n",
    "df.rename(columns={'Country/Region':'Country', 'Province/State':'State' }, inplace=True)\n",
    "df"
   ]
  },
  {
   "cell_type": "markdown",
   "metadata": {},
   "source": [
    "## 1. Динамика роста зараженных, умерших, выздовивших по времени"
   ]
  },
  {
   "cell_type": "code",
   "execution_count": 4,
   "metadata": {},
   "outputs": [
    {
     "data": {
      "text/html": [
       "<div>\n",
       "<style scoped>\n",
       "    .dataframe tbody tr th:only-of-type {\n",
       "        vertical-align: middle;\n",
       "    }\n",
       "\n",
       "    .dataframe tbody tr th {\n",
       "        vertical-align: top;\n",
       "    }\n",
       "\n",
       "    .dataframe thead th {\n",
       "        text-align: right;\n",
       "    }\n",
       "</style>\n",
       "<table border=\"1\" class=\"dataframe\">\n",
       "  <thead>\n",
       "    <tr style=\"text-align: right;\">\n",
       "      <th></th>\n",
       "      <th>Confirmed</th>\n",
       "      <th>Deaths</th>\n",
       "      <th>Recovered</th>\n",
       "    </tr>\n",
       "    <tr>\n",
       "      <th>Date</th>\n",
       "      <th></th>\n",
       "      <th></th>\n",
       "      <th></th>\n",
       "    </tr>\n",
       "  </thead>\n",
       "  <tbody>\n",
       "    <tr>\n",
       "      <th>2020-01-22</th>\n",
       "      <td>555.0</td>\n",
       "      <td>17.0</td>\n",
       "      <td>28.0</td>\n",
       "    </tr>\n",
       "    <tr>\n",
       "      <th>2020-01-23</th>\n",
       "      <td>653.0</td>\n",
       "      <td>18.0</td>\n",
       "      <td>30.0</td>\n",
       "    </tr>\n",
       "    <tr>\n",
       "      <th>2020-01-24</th>\n",
       "      <td>941.0</td>\n",
       "      <td>26.0</td>\n",
       "      <td>36.0</td>\n",
       "    </tr>\n",
       "    <tr>\n",
       "      <th>2020-01-25</th>\n",
       "      <td>1438.0</td>\n",
       "      <td>42.0</td>\n",
       "      <td>39.0</td>\n",
       "    </tr>\n",
       "    <tr>\n",
       "      <th>2020-01-26</th>\n",
       "      <td>2118.0</td>\n",
       "      <td>56.0</td>\n",
       "      <td>52.0</td>\n",
       "    </tr>\n",
       "    <tr>\n",
       "      <th>...</th>\n",
       "      <td>...</td>\n",
       "      <td>...</td>\n",
       "      <td>...</td>\n",
       "    </tr>\n",
       "    <tr>\n",
       "      <th>2020-05-07</th>\n",
       "      <td>3845718.0</td>\n",
       "      <td>269567.0</td>\n",
       "      <td>1284741.0</td>\n",
       "    </tr>\n",
       "    <tr>\n",
       "      <th>2020-05-08</th>\n",
       "      <td>3938064.0</td>\n",
       "      <td>274898.0</td>\n",
       "      <td>1322050.0</td>\n",
       "    </tr>\n",
       "    <tr>\n",
       "      <th>2020-05-09</th>\n",
       "      <td>4024009.0</td>\n",
       "      <td>279311.0</td>\n",
       "      <td>1375624.0</td>\n",
       "    </tr>\n",
       "    <tr>\n",
       "      <th>2020-05-10</th>\n",
       "      <td>4101699.0</td>\n",
       "      <td>282709.0</td>\n",
       "      <td>1408980.0</td>\n",
       "    </tr>\n",
       "    <tr>\n",
       "      <th>2020-05-11</th>\n",
       "      <td>4177504.0</td>\n",
       "      <td>286330.0</td>\n",
       "      <td>1456209.0</td>\n",
       "    </tr>\n",
       "  </tbody>\n",
       "</table>\n",
       "<p>111 rows × 3 columns</p>\n",
       "</div>"
      ],
      "text/plain": [
       "            Confirmed    Deaths  Recovered\n",
       "Date                                      \n",
       "2020-01-22      555.0      17.0       28.0\n",
       "2020-01-23      653.0      18.0       30.0\n",
       "2020-01-24      941.0      26.0       36.0\n",
       "2020-01-25     1438.0      42.0       39.0\n",
       "2020-01-26     2118.0      56.0       52.0\n",
       "...               ...       ...        ...\n",
       "2020-05-07  3845718.0  269567.0  1284741.0\n",
       "2020-05-08  3938064.0  274898.0  1322050.0\n",
       "2020-05-09  4024009.0  279311.0  1375624.0\n",
       "2020-05-10  4101699.0  282709.0  1408980.0\n",
       "2020-05-11  4177504.0  286330.0  1456209.0\n",
       "\n",
       "[111 rows x 3 columns]"
      ]
     },
     "metadata": {},
     "output_type": "display_data"
    },
    {
     "data": {
      "text/plain": [
       "<matplotlib.axes._subplots.AxesSubplot at 0x14859f45648>"
      ]
     },
     "execution_count": 4,
     "metadata": {},
     "output_type": "execute_result"
    },
    {
     "data": {
      "image/png": "[encoded data removed]",
      "text/plain": [
       "<Figure size 864x504 with 1 Axes>"
      ]
     },
     "metadata": {
      "needs_background": "light"
     },
     "output_type": "display_data"
    }
   ],
   "source": [
    "df_by_date = df.groupby(by = 'Date').sum()  # данные по всей планете (сумма по каждой дате)\n",
    "display(df_by_date)\n",
    "df_by_date.plot()  "
   ]
  },
  {
   "cell_type": "markdown",
   "metadata": {},
   "source": [
    "- в середине марта начинается значительные выявление (распространение) вируса\n",
    "- в начале апреля чуть улучшилось понимание как бороться с вирусом - несколько больше стали выздоравливать "
   ]
  },
  {
   "cell_type": "markdown",
   "metadata": {},
   "source": [
    "## 2. Top 10 стран по зараженным на момент сбора dataset-a\n",
    "столбчатая диаграмма для визуального сравнения"
   ]
  },
  {
   "cell_type": "code",
   "execution_count": 5,
   "metadata": {},
   "outputs": [
    {
     "data": {
      "text/html": [
       "<div>\n",
       "<style scoped>\n",
       "    .dataframe tbody tr th:only-of-type {\n",
       "        vertical-align: middle;\n",
       "    }\n",
       "\n",
       "    .dataframe tbody tr th {\n",
       "        vertical-align: top;\n",
       "    }\n",
       "\n",
       "    .dataframe thead th {\n",
       "        text-align: right;\n",
       "    }\n",
       "</style>\n",
       "<table border=\"1\" class=\"dataframe\">\n",
       "  <thead>\n",
       "    <tr style=\"text-align: right;\">\n",
       "      <th></th>\n",
       "      <th>Country</th>\n",
       "      <th>Date</th>\n",
       "      <th>Confirmed</th>\n",
       "      <th>Deaths</th>\n",
       "      <th>Recovered</th>\n",
       "    </tr>\n",
       "  </thead>\n",
       "  <tbody>\n",
       "    <tr>\n",
       "      <th>0</th>\n",
       "      <td>US</td>\n",
       "      <td>2020-05-11</td>\n",
       "      <td>1347881.0</td>\n",
       "      <td>80682.0</td>\n",
       "      <td>232733.0</td>\n",
       "    </tr>\n",
       "    <tr>\n",
       "      <th>1</th>\n",
       "      <td>Spain</td>\n",
       "      <td>2020-05-11</td>\n",
       "      <td>236899.0</td>\n",
       "      <td>26744.0</td>\n",
       "      <td>137139.0</td>\n",
       "    </tr>\n",
       "    <tr>\n",
       "      <th>2</th>\n",
       "      <td>UK</td>\n",
       "      <td>2020-05-11</td>\n",
       "      <td>224332.0</td>\n",
       "      <td>32141.0</td>\n",
       "      <td>1015.0</td>\n",
       "    </tr>\n",
       "    <tr>\n",
       "      <th>3</th>\n",
       "      <td>Russia</td>\n",
       "      <td>2020-05-11</td>\n",
       "      <td>221344.0</td>\n",
       "      <td>2009.0</td>\n",
       "      <td>39801.0</td>\n",
       "    </tr>\n",
       "    <tr>\n",
       "      <th>4</th>\n",
       "      <td>Italy</td>\n",
       "      <td>2020-05-11</td>\n",
       "      <td>219814.0</td>\n",
       "      <td>30739.0</td>\n",
       "      <td>106587.0</td>\n",
       "    </tr>\n",
       "    <tr>\n",
       "      <th>...</th>\n",
       "      <td>...</td>\n",
       "      <td>...</td>\n",
       "      <td>...</td>\n",
       "      <td>...</td>\n",
       "      <td>...</td>\n",
       "    </tr>\n",
       "    <tr>\n",
       "      <th>217</th>\n",
       "      <td>Greenland</td>\n",
       "      <td>2020-03-21</td>\n",
       "      <td>1.0</td>\n",
       "      <td>0.0</td>\n",
       "      <td>0.0</td>\n",
       "    </tr>\n",
       "    <tr>\n",
       "      <th>218</th>\n",
       "      <td>Guernsey</td>\n",
       "      <td>2020-03-21</td>\n",
       "      <td>1.0</td>\n",
       "      <td>0.0</td>\n",
       "      <td>0.0</td>\n",
       "    </tr>\n",
       "    <tr>\n",
       "      <th>219</th>\n",
       "      <td>North Ireland</td>\n",
       "      <td>2020-02-28</td>\n",
       "      <td>1.0</td>\n",
       "      <td>0.0</td>\n",
       "      <td>0.0</td>\n",
       "    </tr>\n",
       "    <tr>\n",
       "      <th>220</th>\n",
       "      <td>Republic of the Congo</td>\n",
       "      <td>2020-03-21</td>\n",
       "      <td>1.0</td>\n",
       "      <td>0.0</td>\n",
       "      <td>0.0</td>\n",
       "    </tr>\n",
       "    <tr>\n",
       "      <th>221</th>\n",
       "      <td>Azerbaijan</td>\n",
       "      <td>2020-02-28</td>\n",
       "      <td>1.0</td>\n",
       "      <td>0.0</td>\n",
       "      <td>0.0</td>\n",
       "    </tr>\n",
       "  </tbody>\n",
       "</table>\n",
       "<p>222 rows × 5 columns</p>\n",
       "</div>"
      ],
      "text/plain": [
       "                   Country       Date  Confirmed   Deaths  Recovered\n",
       "0                       US 2020-05-11  1347881.0  80682.0   232733.0\n",
       "1                    Spain 2020-05-11   236899.0  26744.0   137139.0\n",
       "2                       UK 2020-05-11   224332.0  32141.0     1015.0\n",
       "3                   Russia 2020-05-11   221344.0   2009.0    39801.0\n",
       "4                    Italy 2020-05-11   219814.0  30739.0   106587.0\n",
       "..                     ...        ...        ...      ...        ...\n",
       "217              Greenland 2020-03-21        1.0      0.0        0.0\n",
       "218               Guernsey 2020-03-21        1.0      0.0        0.0\n",
       "219          North Ireland 2020-02-28        1.0      0.0        0.0\n",
       "220  Republic of the Congo 2020-03-21        1.0      0.0        0.0\n",
       "221             Azerbaijan 2020-02-28        1.0      0.0        0.0\n",
       "\n",
       "[222 rows x 5 columns]"
      ]
     },
     "metadata": {},
     "output_type": "display_data"
    }
   ],
   "source": [
    "df_by_country = df.groupby(['Country', 'Date']).sum() # объединение по всем регионам страны на каждую дату\n",
    "\n",
    "# выделение итогового значения (максимального) на последнюю дату для каждой страны:\n",
    "df_by_country = df_by_country.reset_index()  \\\n",
    "    .groupby(by = 'Country').max() \\\n",
    "    .sort_values(by = 'Confirmed', ascending=False).reset_index()\n",
    "display(df_by_country)"
   ]
  },
  {
   "cell_type": "code",
   "execution_count": 6,
   "metadata": {},
   "outputs": [
    {
     "data": {
      "text/plain": [
       "Text(0.5, 1.0, 'Top 10 contries by confirmed')"
      ]
     },
     "execution_count": 6,
     "metadata": {},
     "output_type": "execute_result"
    },
    {
     "data": {
      "image/png": "[encoded data removed]",
      "text/plain": [
       "<Figure size 864x504 with 1 Axes>"
      ]
     },
     "metadata": {
      "needs_background": "light"
     },
     "output_type": "display_data"
    }
   ],
   "source": [
    "df_by_country2 = df_by_country.head(10)\n",
    "plt.barh(df_by_country2['Country'], df_by_country2['Confirmed'])\n",
    "plt.xlabel('Quantity')\n",
    "plt.ylabel('Counties')\n",
    "plt.title('Top 10 contries by confirmed')"
   ]
  },
  {
   "cell_type": "markdown",
   "metadata": {},
   "source": [
    "### Выводы\n",
    "Стобчатая диаграмма:\n",
    "- количество зараженных \n",
    "- страны\n",
    "Цель: посмотреть сравнительный масштаб бедствия по странам\n",
    "- США больше всех зараженных,\n",
    "- Испарния, Англия, Россия и Италия - примерно одинакого "
   ]
  },
  {
   "cell_type": "markdown",
   "metadata": {},
   "source": [
    "### Вопрос: Как в дата сет df_by_country2 додавить отдельную строку из друго дата сета df_by_counry?"
   ]
  },
  {
   "cell_type": "code",
   "execution_count": 7,
   "metadata": {},
   "outputs": [
    {
     "data": {
      "text/html": [
       "<div>\n",
       "<style scoped>\n",
       "    .dataframe tbody tr th:only-of-type {\n",
       "        vertical-align: middle;\n",
       "    }\n",
       "\n",
       "    .dataframe tbody tr th {\n",
       "        vertical-align: top;\n",
       "    }\n",
       "\n",
       "    .dataframe thead th {\n",
       "        text-align: right;\n",
       "    }\n",
       "</style>\n",
       "<table border=\"1\" class=\"dataframe\">\n",
       "  <thead>\n",
       "    <tr style=\"text-align: right;\">\n",
       "      <th></th>\n",
       "      <th>Country</th>\n",
       "      <th>Date</th>\n",
       "      <th>Confirmed</th>\n",
       "      <th>Deaths</th>\n",
       "      <th>Recovered</th>\n",
       "    </tr>\n",
       "  </thead>\n",
       "  <tbody>\n",
       "    <tr>\n",
       "      <th>10</th>\n",
       "      <td>Mainland China</td>\n",
       "      <td>2020-05-11</td>\n",
       "      <td>82919.0</td>\n",
       "      <td>4633.0</td>\n",
       "      <td>78171.0</td>\n",
       "    </tr>\n",
       "  </tbody>\n",
       "</table>\n",
       "</div>"
      ],
      "text/plain": [
       "           Country       Date  Confirmed  Deaths  Recovered\n",
       "10  Mainland China 2020-05-11    82919.0  4633.0    78171.0"
      ]
     },
     "execution_count": 7,
     "metadata": {},
     "output_type": "execute_result"
    }
   ],
   "source": [
    "df_by_country.loc[df_by_country.Country == 'Mainland China']"
   ]
  },
  {
   "cell_type": "markdown",
   "metadata": {},
   "source": [
    "## 3. Уровень сметрности в 10 стран с большим распространением вируса"
   ]
  },
  {
   "cell_type": "code",
   "execution_count": 8,
   "metadata": {},
   "outputs": [
    {
     "data": {
      "text/html": [
       "<div>\n",
       "<style scoped>\n",
       "    .dataframe tbody tr th:only-of-type {\n",
       "        vertical-align: middle;\n",
       "    }\n",
       "\n",
       "    .dataframe tbody tr th {\n",
       "        vertical-align: top;\n",
       "    }\n",
       "\n",
       "    .dataframe thead th {\n",
       "        text-align: right;\n",
       "    }\n",
       "</style>\n",
       "<table border=\"1\" class=\"dataframe\">\n",
       "  <thead>\n",
       "    <tr style=\"text-align: right;\">\n",
       "      <th></th>\n",
       "      <th>Country</th>\n",
       "      <th>Date</th>\n",
       "      <th>Confirmed</th>\n",
       "      <th>Deaths</th>\n",
       "      <th>Recovered</th>\n",
       "      <th>Mortality</th>\n",
       "    </tr>\n",
       "  </thead>\n",
       "  <tbody>\n",
       "    <tr>\n",
       "      <th>14</th>\n",
       "      <td>Belgium</td>\n",
       "      <td>2020-05-11</td>\n",
       "      <td>53449.0</td>\n",
       "      <td>8707.0</td>\n",
       "      <td>13697.0</td>\n",
       "      <td>16.290295</td>\n",
       "    </tr>\n",
       "    <tr>\n",
       "      <th>5</th>\n",
       "      <td>France</td>\n",
       "      <td>2020-05-11</td>\n",
       "      <td>177547.0</td>\n",
       "      <td>26646.0</td>\n",
       "      <td>56835.0</td>\n",
       "      <td>15.007857</td>\n",
       "    </tr>\n",
       "    <tr>\n",
       "      <th>2</th>\n",
       "      <td>UK</td>\n",
       "      <td>2020-05-11</td>\n",
       "      <td>224332.0</td>\n",
       "      <td>32141.0</td>\n",
       "      <td>1015.0</td>\n",
       "      <td>14.327425</td>\n",
       "    </tr>\n",
       "    <tr>\n",
       "      <th>4</th>\n",
       "      <td>Italy</td>\n",
       "      <td>2020-05-11</td>\n",
       "      <td>219814.0</td>\n",
       "      <td>30739.0</td>\n",
       "      <td>106587.0</td>\n",
       "      <td>13.984096</td>\n",
       "    </tr>\n",
       "    <tr>\n",
       "      <th>15</th>\n",
       "      <td>Netherlands</td>\n",
       "      <td>2020-05-11</td>\n",
       "      <td>42987.0</td>\n",
       "      <td>5475.0</td>\n",
       "      <td>322.0</td>\n",
       "      <td>12.736409</td>\n",
       "    </tr>\n",
       "  </tbody>\n",
       "</table>\n",
       "</div>"
      ],
      "text/plain": [
       "        Country       Date  Confirmed   Deaths  Recovered  Mortality\n",
       "14      Belgium 2020-05-11    53449.0   8707.0    13697.0  16.290295\n",
       "5        France 2020-05-11   177547.0  26646.0    56835.0  15.007857\n",
       "2            UK 2020-05-11   224332.0  32141.0     1015.0  14.327425\n",
       "4         Italy 2020-05-11   219814.0  30739.0   106587.0  13.984096\n",
       "15  Netherlands 2020-05-11    42987.0   5475.0      322.0  12.736409"
      ]
     },
     "execution_count": 8,
     "metadata": {},
     "output_type": "execute_result"
    }
   ],
   "source": [
    "df_by_country['Mortality'] = 100*df_by_country.Deaths / df_by_country.Confirmed\n",
    "df_by_country[df_by_country.Confirmed > 10000].sort_values(by='Mortality', ascending=False).head()"
   ]
  },
  {
   "cell_type": "code",
   "execution_count": 9,
   "metadata": {},
   "outputs": [
    {
     "data": {
      "text/plain": [
       "<matplotlib.axes._subplots.AxesSubplot at 0x1485a7e7148>"
      ]
     },
     "execution_count": 9,
     "metadata": {},
     "output_type": "execute_result"
    },
    {
     "data": {
      "image/png": "[encoded data removed]",
      "text/plain": [
       "<Figure size 864x504 with 1 Axes>"
      ]
     },
     "metadata": {
      "needs_background": "light"
     },
     "output_type": "display_data"
    }
   ],
   "source": [
    "df_by_country[df_by_country.Confirmed > 10000]['Mortality'].plot(kind='box')"
   ]
  },
  {
   "cell_type": "markdown",
   "metadata": {},
   "source": [
    "### Выводы\n",
    "\n",
    "Boxplot - наглядно видно средний (медианный) уровень, максимальный и минимальный, а также выбросы\n",
    "\n",
    "построен по одному столбцу - смертность (в %)\n",
    "\n",
    "- смертность в большиенсве стран менее 5%\n",
    "- есть ряд стран, в которых сметрность аномально высокая - вплоть до 30%\n",
    "- выбросы могут быть связаны тем, что в некоторых странах мала статистика или неполные данные известны"
   ]
  },
  {
   "cell_type": "code",
   "execution_count": 10,
   "metadata": {},
   "outputs": [
    {
     "data": {
      "text/plain": [
       "<BarContainer object of 10 artists>"
      ]
     },
     "execution_count": 10,
     "metadata": {},
     "output_type": "execute_result"
    },
    {
     "data": {
      "image/png": "[encoded data removed]",
      "text/plain": [
       "<Figure size 864x504 with 1 Axes>"
      ]
     },
     "metadata": {
      "needs_background": "light"
     },
     "output_type": "display_data"
    }
   ],
   "source": [
    "plt.barh(df_by_country['Country'].head(10), df_by_country['Mortality'].head(10))"
   ]
  },
  {
   "cell_type": "markdown",
   "metadata": {},
   "source": [
    "## 4 Распределение смертности"
   ]
  },
  {
   "cell_type": "code",
   "execution_count": 11,
   "metadata": {},
   "outputs": [
    {
     "data": {
      "text/plain": [
       "<matplotlib.axes._subplots.AxesSubplot at 0x1485aee2a88>"
      ]
     },
     "execution_count": 11,
     "metadata": {},
     "output_type": "execute_result"
    },
    {
     "data": {
      "image/png": "[encoded data removed]",
      "text/plain": [
       "<Figure size 864x504 with 1 Axes>"
      ]
     },
     "metadata": {
      "needs_background": "light"
     },
     "output_type": "display_data"
    }
   ],
   "source": [
    "sns.distplot(df_by_country[df_by_country.Confirmed > 10000]['Mortality'], bins=20 )"
   ]
  },
  {
   "cell_type": "markdown",
   "metadata": {},
   "source": [
    "### Вывод\n",
    "Распределение смертности по странам с количеством заболевших более 10 тыс. человек\n",
    "- большнство стран действительно сдерживают смертность не более 6-8%\n",
    "- страны по сметрности от вируса можно разделить на две группы - до 6%, 10-17%"
   ]
  },
  {
   "cell_type": "markdown",
   "metadata": {},
   "source": [
    "## 5 Текущее соотношение болеющих, выздоровивших и умерших (по миру)"
   ]
  },
  {
   "cell_type": "code",
   "execution_count": 12,
   "metadata": {},
   "outputs": [
    {
     "data": {
      "text/plain": [
       "<matplotlib.axes._subplots.AxesSubplot at 0x1485aafc1c8>"
      ]
     },
     "execution_count": 12,
     "metadata": {},
     "output_type": "execute_result"
    },
    {
     "data": {
      "image/png": "[encoded data removed]",
      "text/plain": [
       "<Figure size 864x504 with 1 Axes>"
      ]
     },
     "metadata": {},
     "output_type": "display_data"
    }
   ],
   "source": [
    "df_by_country['Ill'] = df_by_country.Confirmed - df_by_country.Deaths - df_by_country.Recovered\n",
    "sum1 = df_by_country[['Ill','Deaths', 'Recovered']].sum()\n",
    "sum1.plot.pie()"
   ]
  },
  {
   "cell_type": "markdown",
   "metadata": {},
   "source": [
    "### Вывод\n",
    "Круговая диаграмма - наглядно показывает соотнешение категорий людей, затронутых вирусом (всего 3 категории)\n",
    "- пока больше половины выявленных зараженных еще болеет\n",
    "- больше четверти уже побороло болезнь"
   ]
  },
  {
   "cell_type": "markdown",
   "metadata": {},
   "source": [
    "## 6 Разные пробы"
   ]
  },
  {
   "cell_type": "code",
   "execution_count": 13,
   "metadata": {},
   "outputs": [
    {
     "data": {
      "text/html": [
       "<div>\n",
       "<style scoped>\n",
       "    .dataframe tbody tr th:only-of-type {\n",
       "        vertical-align: middle;\n",
       "    }\n",
       "\n",
       "    .dataframe tbody tr th {\n",
       "        vertical-align: top;\n",
       "    }\n",
       "\n",
       "    .dataframe thead th {\n",
       "        text-align: right;\n",
       "    }\n",
       "</style>\n",
       "<table border=\"1\" class=\"dataframe\">\n",
       "  <thead>\n",
       "    <tr style=\"text-align: right;\">\n",
       "      <th></th>\n",
       "      <th>Date</th>\n",
       "      <th>Confirmed</th>\n",
       "      <th>Deaths</th>\n",
       "      <th>Recovered</th>\n",
       "      <th>ts</th>\n",
       "    </tr>\n",
       "  </thead>\n",
       "  <tbody>\n",
       "    <tr>\n",
       "      <th>482</th>\n",
       "      <td>2020-01-31</td>\n",
       "      <td>2.0</td>\n",
       "      <td>0.0</td>\n",
       "      <td>0.0</td>\n",
       "      <td>1580428800000000000</td>\n",
       "    </tr>\n",
       "    <tr>\n",
       "      <th>540</th>\n",
       "      <td>2020-02-01</td>\n",
       "      <td>2.0</td>\n",
       "      <td>0.0</td>\n",
       "      <td>0.0</td>\n",
       "      <td>1580515200000000000</td>\n",
       "    </tr>\n",
       "    <tr>\n",
       "      <th>610</th>\n",
       "      <td>2020-02-02</td>\n",
       "      <td>2.0</td>\n",
       "      <td>0.0</td>\n",
       "      <td>0.0</td>\n",
       "      <td>1580601600000000000</td>\n",
       "    </tr>\n",
       "    <tr>\n",
       "      <th>677</th>\n",
       "      <td>2020-02-03</td>\n",
       "      <td>2.0</td>\n",
       "      <td>0.0</td>\n",
       "      <td>0.0</td>\n",
       "      <td>1580688000000000000</td>\n",
       "    </tr>\n",
       "    <tr>\n",
       "      <th>745</th>\n",
       "      <td>2020-02-04</td>\n",
       "      <td>2.0</td>\n",
       "      <td>0.0</td>\n",
       "      <td>0.0</td>\n",
       "      <td>1580774400000000000</td>\n",
       "    </tr>\n",
       "    <tr>\n",
       "      <th>...</th>\n",
       "      <td>...</td>\n",
       "      <td>...</td>\n",
       "      <td>...</td>\n",
       "      <td>...</td>\n",
       "      <td>...</td>\n",
       "    </tr>\n",
       "    <tr>\n",
       "      <th>22324</th>\n",
       "      <td>2020-05-07</td>\n",
       "      <td>177160.0</td>\n",
       "      <td>1625.0</td>\n",
       "      <td>23803.0</td>\n",
       "      <td>1588809600000000000</td>\n",
       "    </tr>\n",
       "    <tr>\n",
       "      <th>22647</th>\n",
       "      <td>2020-05-08</td>\n",
       "      <td>187859.0</td>\n",
       "      <td>1723.0</td>\n",
       "      <td>26608.0</td>\n",
       "      <td>1588896000000000000</td>\n",
       "    </tr>\n",
       "    <tr>\n",
       "      <th>22970</th>\n",
       "      <td>2020-05-09</td>\n",
       "      <td>198676.0</td>\n",
       "      <td>1827.0</td>\n",
       "      <td>31916.0</td>\n",
       "      <td>1588982400000000000</td>\n",
       "    </tr>\n",
       "    <tr>\n",
       "      <th>23293</th>\n",
       "      <td>2020-05-10</td>\n",
       "      <td>209688.0</td>\n",
       "      <td>1915.0</td>\n",
       "      <td>34306.0</td>\n",
       "      <td>1589068800000000000</td>\n",
       "    </tr>\n",
       "    <tr>\n",
       "      <th>23616</th>\n",
       "      <td>2020-05-11</td>\n",
       "      <td>221344.0</td>\n",
       "      <td>2009.0</td>\n",
       "      <td>39801.0</td>\n",
       "      <td>1589155200000000000</td>\n",
       "    </tr>\n",
       "  </tbody>\n",
       "</table>\n",
       "<p>102 rows × 5 columns</p>\n",
       "</div>"
      ],
      "text/plain": [
       "            Date  Confirmed  Deaths  Recovered                   ts\n",
       "482   2020-01-31        2.0     0.0        0.0  1580428800000000000\n",
       "540   2020-02-01        2.0     0.0        0.0  1580515200000000000\n",
       "610   2020-02-02        2.0     0.0        0.0  1580601600000000000\n",
       "677   2020-02-03        2.0     0.0        0.0  1580688000000000000\n",
       "745   2020-02-04        2.0     0.0        0.0  1580774400000000000\n",
       "...          ...        ...     ...        ...                  ...\n",
       "22324 2020-05-07   177160.0  1625.0    23803.0  1588809600000000000\n",
       "22647 2020-05-08   187859.0  1723.0    26608.0  1588896000000000000\n",
       "22970 2020-05-09   198676.0  1827.0    31916.0  1588982400000000000\n",
       "23293 2020-05-10   209688.0  1915.0    34306.0  1589068800000000000\n",
       "23616 2020-05-11   221344.0  2009.0    39801.0  1589155200000000000\n",
       "\n",
       "[102 rows x 5 columns]"
      ]
     },
     "metadata": {},
     "output_type": "display_data"
    }
   ],
   "source": [
    "df_Ru = df[df.Country == 'Russia'][['Date','Confirmed','Deaths', 'Recovered']]\n",
    "df_Ru['ts'] = df_Ru.Date.astype('int64') \n",
    "display(df_Ru)\n"
   ]
  },
  {
   "cell_type": "code",
   "execution_count": 14,
   "metadata": {},
   "outputs": [
    {
     "data": {
      "text/plain": [
       "<matplotlib.axes._subplots.AxesSubplot at 0x1485b09e0c8>"
      ]
     },
     "execution_count": 14,
     "metadata": {},
     "output_type": "execute_result"
    },
    {
     "data": {
      "image/png": "[encoded data removed]",
      "text/plain": [
       "<Figure size 864x504 with 1 Axes>"
      ]
     },
     "metadata": {
      "needs_background": "light"
     },
     "output_type": "display_data"
    }
   ],
   "source": [
    "df_Ru[['Confirmed','Deaths', 'Recovered']].plot(kind = 'line',rot=45)"
   ]
  },
  {
   "cell_type": "code",
   "execution_count": 15,
   "metadata": {},
   "outputs": [
    {
     "data": {
      "image/png": "[encoded data removed]",
      "text/plain": [
       "<Figure size 360x360 with 1 Axes>"
      ]
     },
     "metadata": {
      "needs_background": "light"
     },
     "output_type": "display_data"
    }
   ],
   "source": [
    "sns.lmplot(x='ts',y=\"Confirmed\", data=df_Ru, order = 2);"
   ]
  },
  {
   "cell_type": "code",
   "execution_count": 16,
   "metadata": {},
   "outputs": [
    {
     "data": {
      "text/plain": [
       "<matplotlib.axes._subplots.AxesSubplot at 0x1485b10b488>"
      ]
     },
     "execution_count": 16,
     "metadata": {},
     "output_type": "execute_result"
    },
    {
     "data": {
      "image/png": "[encoded data removed]",
      "text/plain": [
       "<Figure size 864x504 with 1 Axes>"
      ]
     },
     "metadata": {
      "needs_background": "light"
     },
     "output_type": "display_data"
    }
   ],
   "source": [
    "df_Ru[['Confirmed','Deaths', 'Recovered']].plot(kind='bar', rot=45, stacked=True)"
   ]
  },
  {
   "cell_type": "code",
   "execution_count": 17,
   "metadata": {},
   "outputs": [],
   "source": [
    "# pip install plotly==4.7.1"
   ]
  },
  {
   "cell_type": "code",
   "execution_count": 18,
   "metadata": {},
   "outputs": [
    {
     "data": {
      "text/html": [
       "        <script type=\"text/javascript\">\n",
       "        window.PlotlyConfig = {MathJaxConfig: 'local'};\n",
       "        if (window.MathJax) {MathJax.Hub.Config({SVG: {font: \"STIX-Web\"}});}\n",
       "        if (typeof require !== 'undefined') {\n",
       "        require.undef(\"plotly\");\n",
       "        requirejs.config({\n",
       "            paths: {\n",
       "                'plotly': ['https://cdn.plot.ly/plotly-latest.min']\n",
       "            }\n",
       "        });\n",
       "        require(['plotly'], function(Plotly) {\n",
       "            window._Plotly = Plotly;\n",
       "        });\n",
       "        }\n",
       "        </script>\n",
       "        "
      ]
     },
     "metadata": {},
     "output_type": "display_data"
    }
   ],
   "source": [
    "from plotly.offline import init_notebook_mode, iplot\n",
    "import plotly\n",
    "import plotly.graph_objs as go\n",
    "\n",
    "init_notebook_mode(connected=True)"
   ]
  },
  {
   "cell_type": "code",
   "execution_count": 19,
   "metadata": {},
   "outputs": [
    {
     "data": {
      "application/vnd.plotly.v1+json": {
       "config": {
        "linkText": "Export to plot.ly",
        "plotlyServerURL": "https://plot.ly",
        "showLink": false
       },
       "data": [
        {
         "mode": "markers+text",
         "text": [
          "US",
          "Spain",
          "UK",
          "Russia",
          "Italy",
          "France",
          "Germany",
          "Brazil",
          "Turkey",
          "Iran",
          "Mainland China",
          "Canada",
          "India",
          "Peru",
          "Belgium",
          "Netherlands",
          "Saudi Arabia",
          "Mexico",
          "Pakistan",
          "Ecuador",
          "Switzerland",
          "Chile",
          "Portugal",
          "Sweden",
          "Belarus",
          "Singapore",
          "Qatar",
          "Ireland",
          "United Arab Emirates",
          "Israel",
          "Poland",
          "Austria",
          "Japan",
          "Bangladesh",
          "Ukraine",
          "Romania",
          "Indonesia",
          "Colombia",
          "Philippines",
          "South Korea",
          "Denmark",
          "South Africa",
          "Dominican Republic",
          "Serbia",
          "Egypt",
          "Kuwait",
          "Panama",
          "Czech Republic",
          "Norway",
          "Australia",
          "Malaysia",
          "Morocco",
          "Argentina",
          "Finland",
          "Algeria",
          "Bahrain",
          "Kazakhstan",
          "Moldova",
          "Ghana",
          "Afghanistan",
          "Nigeria",
          "Luxembourg",
          "Oman",
          "Armenia",
          "Hungary",
          "Thailand",
          "Bolivia",
          "Iraq",
          "Greece",
          "Cameroon",
          "Azerbaijan",
          "Uzbekistan",
          "Croatia",
          "Guinea",
          "Bosnia and Herzegovina",
          "Honduras",
          "Bulgaria",
          "Senegal",
          "Iceland",
          "Cuba",
          "Estonia",
          "Ivory Coast",
          "North Macedonia",
          "Sudan",
          "New Zealand",
          "Lithuania",
          "Slovenia",
          "Slovakia",
          "Djibouti",
          "Guatemala",
          "Somalia",
          "Hong Kong",
          "Tunisia",
          "Congo (Kinshasa)",
          "Kyrgyzstan",
          "El Salvador",
          "Latvia",
          "Cyprus",
          "Maldives",
          "Kosovo",
          "Albania",
          "Sri Lanka",
          "Lebanon",
          "Niger",
          "Gabon",
          "Costa Rica",
          "Guinea-Bissau",
          "Burkina Faso",
          "Andorra",
          "Paraguay",
          "Others",
          "Mali",
          "Diamond Princess",
          "Uruguay",
          "Kenya",
          "Tajikistan",
          "Georgia",
          "San Marino",
          "Jordan",
          "Tanzania",
          "Jamaica",
          "Malta",
          "West Bank and Gaza",
          "Taiwan",
          "Equatorial Guinea",
          "Venezuela",
          "Sierra Leone",
          "Mauritius",
          "Congo (Brazzaville)",
          "Montenegro",
          "Chad",
          "Benin",
          "Vietnam",
          "Rwanda",
          "Zambia",
          "Cabo Verde",
          "Ethiopia",
          "Liberia",
          "Haiti",
          "Sao Tome and Principe",
          "Madagascar",
          "Togo",
          "Burma",
          "Eswatini",
          "South Sudan",
          "Central African Republic",
          "Brunei",
          "Nepal",
          "Cambodia",
          "Uganda",
          "Trinidad and Tobago",
          "Guyana",
          "Mozambique",
          "Monaco",
          "Bahamas",
          "Barbados",
          "Liechtenstein",
          "Libya",
          "Malawi",
          "Yemen",
          "Guadeloupe",
          "Syria",
          "Macau",
          "Angola",
          "Reunion",
          "Mongolia",
          "Zimbabwe",
          "Eritrea",
          "Martinique",
          "occupied Palestinian territory",
          "Antigua and Barbuda",
          "Botswana",
          "Timor-Leste",
          "Palestine",
          "Gambia",
          "Grenada",
          "Republic of Ireland",
          "Laos",
          "Belize",
          "Saint Lucia",
          "French Guiana",
          "Fiji",
          "Saint Vincent and the Grenadines",
          "Nicaragua",
          "Namibia",
          "Dominica",
          "Burundi",
          "Saint Kitts and Nevis",
          "Holy See",
          "Bhutan",
          "Comoros",
          "Seychelles",
          "Suriname",
          "MS Zaandam",
          "Mauritania",
          "Papua New Guinea",
          "Mayotte",
          "Western Sahara",
          "Bahamas, The",
          "Aruba",
          "Guam",
          "Saint Barthelemy",
          "Puerto Rico",
          "Faroe Islands",
          "St. Martin",
          "('St. Martin',)",
          "Jersey",
          "Vatican City",
          "Cayman Islands",
          "Cape Verde",
          "Gibraltar",
          "Channel Islands",
          "Curacao",
          "East Timor",
          "The Gambia",
          "The Bahamas",
          "Gambia, The",
          "Greenland",
          "Guernsey",
          "North Ireland",
          "Republic of the Congo",
          " Azerbaijan"
         ],
         "textposition": "bottom center",
         "type": "scatter",
         "x": [
          1347881,
          236899,
          224332,
          221344,
          219814,
          177547,
          172576,
          169594,
          139771,
          109286,
          82919,
          71264,
          70768,
          68822,
          53449,
          42987,
          41014,
          36327,
          32081,
          31881,
          30344,
          30063,
          27679,
          26670,
          23906,
          23822,
          23623,
          23135,
          18878,
          16506,
          16326,
          15882,
          15847,
          15691,
          15648,
          15588,
          14265,
          11613,
          11086,
          10936,
          10711,
          10652,
          10634,
          10176,
          9746,
          9286,
          8616,
          8176,
          8132,
          6970,
          6726,
          6281,
          6278,
          5984,
          5891,
          5236,
          5207,
          4995,
          4700,
          4687,
          4641,
          3888,
          3573,
          3392,
          3284,
          3015,
          2831,
          2818,
          2726,
          2689,
          2589,
          2486,
          2196,
          2146,
          2141,
          2100,
          1990,
          1886,
          1801,
          1783,
          1741,
          1730,
          1664,
          1526,
          1497,
          1485,
          1460,
          1457,
          1227,
          1114,
          1089,
          1047,
          1032,
          1024,
          1016,
          958,
          946,
          901,
          897,
          884,
          872,
          869,
          859,
          832,
          802,
          801,
          761,
          760,
          755,
          724,
          712,
          712,
          712,
          711,
          700,
          661,
          638,
          637,
          562,
          509,
          505,
          503,
          484,
          440,
          439,
          422,
          338,
          334,
          333,
          324,
          322,
          319,
          288,
          285,
          267,
          260,
          250,
          211,
          209,
          208,
          193,
          181,
          180,
          175,
          156,
          143,
          141,
          134,
          122,
          121,
          116,
          109,
          103,
          96,
          93,
          84,
          82,
          64,
          57,
          56,
          53,
          47,
          45,
          45,
          45,
          42,
          40,
          39,
          32,
          25,
          25,
          24,
          24,
          22,
          22,
          21,
          21,
          19,
          18,
          18,
          18,
          18,
          17,
          16,
          16,
          16,
          15,
          15,
          12,
          11,
          11,
          11,
          10,
          9,
          8,
          8,
          7,
          6,
          4,
          4,
          3,
          3,
          3,
          2,
          2,
          2,
          2,
          1,
          1,
          1,
          1,
          1,
          1,
          1,
          1,
          1,
          1,
          1,
          1,
          1,
          1,
          1
         ],
         "y": [
          232733,
          137139,
          1015,
          39801,
          106587,
          56835,
          145617,
          67384,
          95780,
          87422,
          78171,
          33007,
          22549,
          22406,
          13697,
          322,
          12737,
          23100,
          8555,
          3433,
          26800,
          13605,
          2549,
          4971,
          6531,
          3225,
          2840,
          17110,
          5381,
          11843,
          5816,
          14061,
          8293,
          2902,
          3288,
          7245,
          2881,
          2825,
          1999,
          9670,
          8526,
          4357,
          2870,
          3290,
          2172,
          2907,
          4687,
          4711,
          32,
          6213,
          5113,
          2811,
          1837,
          4000,
          2841,
          2152,
          2074,
          1980,
          494,
          558,
          902,
          3602,
          1250,
          1359,
          958,
          2796,
          299,
          1790,
          1374,
          1524,
          1680,
          1988,
          1784,
          714,
          1114,
          206,
          461,
          715,
          1773,
          1229,
          751,
          818,
          1200,
          162,
          1398,
          833,
          256,
          959,
          872,
          111,
          121,
          985,
          727,
          141,
          688,
          325,
          464,
          401,
          29,
          655,
          654,
          343,
          234,
          637,
          127,
          517,
          26,
          584,
          550,
          170,
          567,
          377,
          651,
          523,
          251,
          0,
          317,
          130,
          390,
          183,
          90,
          434,
          301,
          368,
          13,
          205,
          72,
          322,
          53,
          294,
          53,
          62,
          249,
          150,
          117,
          58,
          105,
          85,
          17,
          4,
          101,
          89,
          74,
          28,
          2,
          10,
          134,
          33,
          121,
          55,
          107,
          36,
          34,
          85,
          39,
          57,
          55,
          28,
          24,
          1,
          0,
          29,
          42,
          13,
          0,
          14,
          9,
          38,
          0,
          0,
          19,
          12,
          21,
          0,
          10,
          13,
          0,
          13,
          16,
          17,
          6,
          14,
          9,
          7,
          11,
          15,
          7,
          14,
          2,
          5,
          0,
          10,
          9,
          0,
          6,
          8,
          0,
          6,
          0,
          0,
          0,
          0,
          0,
          0,
          0,
          0,
          0,
          0,
          0,
          0,
          1,
          0,
          0,
          0,
          0,
          0,
          0,
          0,
          0,
          0,
          0,
          0
         ]
        }
       ],
       "layout": {
        "template": {
         "data": {
          "bar": [
           {
            "error_x": {
             "color": "#2a3f5f"
            },
            "error_y": {
             "color": "#2a3f5f"
            },
            "marker": {
             "line": {
              "color": "#E5ECF6",
              "width": 0.5
             }
            },
            "type": "bar"
           }
          ],
          "barpolar": [
           {
            "marker": {
             "line": {
              "color": "#E5ECF6",
              "width": 0.5
             }
            },
            "type": "barpolar"
           }
          ],
          "carpet": [
           {
            "aaxis": {
             "endlinecolor": "#2a3f5f",
             "gridcolor": "white",
             "linecolor": "white",
             "minorgridcolor": "white",
             "startlinecolor": "#2a3f5f"
            },
            "baxis": {
             "endlinecolor": "#2a3f5f",
             "gridcolor": "white",
             "linecolor": "white",
             "minorgridcolor": "white",
             "startlinecolor": "#2a3f5f"
            },
            "type": "carpet"
           }
          ],
          "choropleth": [
           {
            "colorbar": {
             "outlinewidth": 0,
             "ticks": ""
            },
            "type": "choropleth"
           }
          ],
          "contour": [
           {
            "colorbar": {
             "outlinewidth": 0,
             "ticks": ""
            },
            "colorscale": [
             [
              0,
              "#0d0887"
             ],
             [
              0.1111111111111111,
              "#46039f"
             ],
             [
              0.2222222222222222,
              "#7201a8"
             ],
             [
              0.3333333333333333,
              "#9c179e"
             ],
             [
              0.4444444444444444,
              "#bd3786"
             ],
             [
              0.5555555555555556,
              "#d8576b"
             ],
             [
              0.6666666666666666,
              "#ed7953"
             ],
             [
              0.7777777777777778,
              "#fb9f3a"
             ],
             [
              0.8888888888888888,
              "#fdca26"
             ],
             [
              1,
              "#f0f921"
             ]
            ],
            "type": "contour"
           }
          ],
          "contourcarpet": [
           {
            "colorbar": {
             "outlinewidth": 0,
             "ticks": ""
            },
            "type": "contourcarpet"
           }
          ],
          "heatmap": [
           {
            "colorbar": {
             "outlinewidth": 0,
             "ticks": ""
            },
            "colorscale": [
             [
              0,
              "#0d0887"
             ],
             [
              0.1111111111111111,
              "#46039f"
             ],
             [
              0.2222222222222222,
              "#7201a8"
             ],
             [
              0.3333333333333333,
              "#9c179e"
             ],
             [
              0.4444444444444444,
              "#bd3786"
             ],
             [
              0.5555555555555556,
              "#d8576b"
             ],
             [
              0.6666666666666666,
              "#ed7953"
             ],
             [
              0.7777777777777778,
              "#fb9f3a"
             ],
             [
              0.8888888888888888,
              "#fdca26"
             ],
             [
              1,
              "#f0f921"
             ]
            ],
            "type": "heatmap"
           }
          ],
          "heatmapgl": [
           {
            "colorbar": {
             "outlinewidth": 0,
             "ticks": ""
            },
            "colorscale": [
             [
              0,
              "#0d0887"
             ],
             [
              0.1111111111111111,
              "#46039f"
             ],
             [
              0.2222222222222222,
              "#7201a8"
             ],
             [
              0.3333333333333333,
              "#9c179e"
             ],
             [
              0.4444444444444444,
              "#bd3786"
             ],
             [
              0.5555555555555556,
              "#d8576b"
             ],
             [
              0.6666666666666666,
              "#ed7953"
             ],
             [
              0.7777777777777778,
              "#fb9f3a"
             ],
             [
              0.8888888888888888,
              "#fdca26"
             ],
             [
              1,
              "#f0f921"
             ]
            ],
            "type": "heatmapgl"
           }
          ],
          "histogram": [
           {
            "marker": {
             "colorbar": {
              "outlinewidth": 0,
              "ticks": ""
             }
            },
            "type": "histogram"
           }
          ],
          "histogram2d": [
           {
            "colorbar": {
             "outlinewidth": 0,
             "ticks": ""
            },
            "colorscale": [
             [
              0,
              "#0d0887"
             ],
             [
              0.1111111111111111,
              "#46039f"
             ],
             [
              0.2222222222222222,
              "#7201a8"
             ],
             [
              0.3333333333333333,
              "#9c179e"
             ],
             [
              0.4444444444444444,
              "#bd3786"
             ],
             [
              0.5555555555555556,
              "#d8576b"
             ],
             [
              0.6666666666666666,
              "#ed7953"
             ],
             [
              0.7777777777777778,
              "#fb9f3a"
             ],
             [
              0.8888888888888888,
              "#fdca26"
             ],
             [
              1,
              "#f0f921"
             ]
            ],
            "type": "histogram2d"
           }
          ],
          "histogram2dcontour": [
           {
            "colorbar": {
             "outlinewidth": 0,
             "ticks": ""
            },
            "colorscale": [
             [
              0,
              "#0d0887"
             ],
             [
              0.1111111111111111,
              "#46039f"
             ],
             [
              0.2222222222222222,
              "#7201a8"
             ],
             [
              0.3333333333333333,
              "#9c179e"
             ],
             [
              0.4444444444444444,
              "#bd3786"
             ],
             [
              0.5555555555555556,
              "#d8576b"
             ],
             [
              0.6666666666666666,
              "#ed7953"
             ],
             [
              0.7777777777777778,
              "#fb9f3a"
             ],
             [
              0.8888888888888888,
              "#fdca26"
             ],
             [
              1,
              "#f0f921"
             ]
            ],
            "type": "histogram2dcontour"
           }
          ],
          "mesh3d": [
           {
            "colorbar": {
             "outlinewidth": 0,
             "ticks": ""
            },
            "type": "mesh3d"
           }
          ],
          "parcoords": [
           {
            "line": {
             "colorbar": {
              "outlinewidth": 0,
              "ticks": ""
             }
            },
            "type": "parcoords"
           }
          ],
          "pie": [
           {
            "automargin": true,
            "type": "pie"
           }
          ],
          "scatter": [
           {
            "marker": {
             "colorbar": {
              "outlinewidth": 0,
              "ticks": ""
             }
            },
            "type": "scatter"
           }
          ],
          "scatter3d": [
           {
            "line": {
             "colorbar": {
              "outlinewidth": 0,
              "ticks": ""
             }
            },
            "marker": {
             "colorbar": {
              "outlinewidth": 0,
              "ticks": ""
             }
            },
            "type": "scatter3d"
           }
          ],
          "scattercarpet": [
           {
            "marker": {
             "colorbar": {
              "outlinewidth": 0,
              "ticks": ""
             }
            },
            "type": "scattercarpet"
           }
          ],
          "scattergeo": [
           {
            "marker": {
             "colorbar": {
              "outlinewidth": 0,
              "ticks": ""
             }
            },
            "type": "scattergeo"
           }
          ],
          "scattergl": [
           {
            "marker": {
             "colorbar": {
              "outlinewidth": 0,
              "ticks": ""
             }
            },
            "type": "scattergl"
           }
          ],
          "scattermapbox": [
           {
            "marker": {
             "colorbar": {
              "outlinewidth": 0,
              "ticks": ""
             }
            },
            "type": "scattermapbox"
           }
          ],
          "scatterpolar": [
           {
            "marker": {
             "colorbar": {
              "outlinewidth": 0,
              "ticks": ""
             }
            },
            "type": "scatterpolar"
           }
          ],
          "scatterpolargl": [
           {
            "marker": {
             "colorbar": {
              "outlinewidth": 0,
              "ticks": ""
             }
            },
            "type": "scatterpolargl"
           }
          ],
          "scatterternary": [
           {
            "marker": {
             "colorbar": {
              "outlinewidth": 0,
              "ticks": ""
             }
            },
            "type": "scatterternary"
           }
          ],
          "surface": [
           {
            "colorbar": {
             "outlinewidth": 0,
             "ticks": ""
            },
            "colorscale": [
             [
              0,
              "#0d0887"
             ],
             [
              0.1111111111111111,
              "#46039f"
             ],
             [
              0.2222222222222222,
              "#7201a8"
             ],
             [
              0.3333333333333333,
              "#9c179e"
             ],
             [
              0.4444444444444444,
              "#bd3786"
             ],
             [
              0.5555555555555556,
              "#d8576b"
             ],
             [
              0.6666666666666666,
              "#ed7953"
             ],
             [
              0.7777777777777778,
              "#fb9f3a"
             ],
             [
              0.8888888888888888,
              "#fdca26"
             ],
             [
              1,
              "#f0f921"
             ]
            ],
            "type": "surface"
           }
          ],
          "table": [
           {
            "cells": {
             "fill": {
              "color": "#EBF0F8"
             },
             "line": {
              "color": "white"
             }
            },
            "header": {
             "fill": {
              "color": "#C8D4E3"
             },
             "line": {
              "color": "white"
             }
            },
            "type": "table"
           }
          ]
         },
         "layout": {
          "annotationdefaults": {
           "arrowcolor": "#2a3f5f",
           "arrowhead": 0,
           "arrowwidth": 1
          },
          "coloraxis": {
           "colorbar": {
            "outlinewidth": 0,
            "ticks": ""
           }
          },
          "colorscale": {
           "diverging": [
            [
             0,
             "#8e0152"
            ],
            [
             0.1,
             "#c51b7d"
            ],
            [
             0.2,
             "#de77ae"
            ],
            [
             0.3,
             "#f1b6da"
            ],
            [
             0.4,
             "#fde0ef"
            ],
            [
             0.5,
             "#f7f7f7"
            ],
            [
             0.6,
             "#e6f5d0"
            ],
            [
             0.7,
             "#b8e186"
            ],
            [
             0.8,
             "#7fbc41"
            ],
            [
             0.9,
             "#4d9221"
            ],
            [
             1,
             "#276419"
            ]
           ],
           "sequential": [
            [
             0,
             "#0d0887"
            ],
            [
             0.1111111111111111,
             "#46039f"
            ],
            [
             0.2222222222222222,
             "#7201a8"
            ],
            [
             0.3333333333333333,
             "#9c179e"
            ],
            [
             0.4444444444444444,
             "#bd3786"
            ],
            [
             0.5555555555555556,
             "#d8576b"
            ],
            [
             0.6666666666666666,
             "#ed7953"
            ],
            [
             0.7777777777777778,
             "#fb9f3a"
            ],
            [
             0.8888888888888888,
             "#fdca26"
            ],
            [
             1,
             "#f0f921"
            ]
           ],
           "sequentialminus": [
            [
             0,
             "#0d0887"
            ],
            [
             0.1111111111111111,
             "#46039f"
            ],
            [
             0.2222222222222222,
             "#7201a8"
            ],
            [
             0.3333333333333333,
             "#9c179e"
            ],
            [
             0.4444444444444444,
             "#bd3786"
            ],
            [
             0.5555555555555556,
             "#d8576b"
            ],
            [
             0.6666666666666666,
             "#ed7953"
            ],
            [
             0.7777777777777778,
             "#fb9f3a"
            ],
            [
             0.8888888888888888,
             "#fdca26"
            ],
            [
             1,
             "#f0f921"
            ]
           ]
          },
          "colorway": [
           "#636efa",
           "#EF553B",
           "#00cc96",
           "#ab63fa",
           "#FFA15A",
           "#19d3f3",
           "#FF6692",
           "#B6E880",
           "#FF97FF",
           "#FECB52"
          ],
          "font": {
           "color": "#2a3f5f"
          },
          "geo": {
           "bgcolor": "white",
           "lakecolor": "white",
           "landcolor": "#E5ECF6",
           "showlakes": true,
           "showland": true,
           "subunitcolor": "white"
          },
          "hoverlabel": {
           "align": "left"
          },
          "hovermode": "closest",
          "mapbox": {
           "style": "light"
          },
          "paper_bgcolor": "white",
          "plot_bgcolor": "#E5ECF6",
          "polar": {
           "angularaxis": {
            "gridcolor": "white",
            "linecolor": "white",
            "ticks": ""
           },
           "bgcolor": "#E5ECF6",
           "radialaxis": {
            "gridcolor": "white",
            "linecolor": "white",
            "ticks": ""
           }
          },
          "scene": {
           "xaxis": {
            "backgroundcolor": "#E5ECF6",
            "gridcolor": "white",
            "gridwidth": 2,
            "linecolor": "white",
            "showbackground": true,
            "ticks": "",
            "zerolinecolor": "white"
           },
           "yaxis": {
            "backgroundcolor": "#E5ECF6",
            "gridcolor": "white",
            "gridwidth": 2,
            "linecolor": "white",
            "showbackground": true,
            "ticks": "",
            "zerolinecolor": "white"
           },
           "zaxis": {
            "backgroundcolor": "#E5ECF6",
            "gridcolor": "white",
            "gridwidth": 2,
            "linecolor": "white",
            "showbackground": true,
            "ticks": "",
            "zerolinecolor": "white"
           }
          },
          "shapedefaults": {
           "line": {
            "color": "#2a3f5f"
           }
          },
          "ternary": {
           "aaxis": {
            "gridcolor": "white",
            "linecolor": "white",
            "ticks": ""
           },
           "baxis": {
            "gridcolor": "white",
            "linecolor": "white",
            "ticks": ""
           },
           "bgcolor": "#E5ECF6",
           "caxis": {
            "gridcolor": "white",
            "linecolor": "white",
            "ticks": ""
           }
          },
          "title": {
           "x": 0.05
          },
          "xaxis": {
           "automargin": true,
           "gridcolor": "white",
           "linecolor": "white",
           "ticks": "",
           "title": {
            "standoff": 15
           },
           "zerolinecolor": "white",
           "zerolinewidth": 2
          },
          "yaxis": {
           "automargin": true,
           "gridcolor": "white",
           "linecolor": "white",
           "ticks": "",
           "title": {
            "standoff": 15
           },
           "zerolinecolor": "white",
           "zerolinewidth": 2
          }
         }
        },
        "title": {
         "text": "Confirmed and Recovered"
        },
        "xaxis": {
         "title": {
          "text": "Confirmed"
         }
        },
        "yaxis": {
         "title": {
          "text": "Recovered"
         }
        }
       }
      },
      "text/html": [
       "<div>\n",
       "        \n",
       "        \n",
       "            <div id=\"6d64ff6b-d54a-439f-8b3e-90fd7493a20c\" class=\"plotly-graph-div\" style=\"height:525px; width:100%;\"></div>\n",
       "            <script type=\"text/javascript\">\n",
       "                require([\"plotly\"], function(Plotly) {\n",
       "                    window.PLOTLYENV=window.PLOTLYENV || {};\n",
       "                    \n",
       "                if (document.getElementById(\"6d64ff6b-d54a-439f-8b3e-90fd7493a20c\")) {\n",
       "                    Plotly.newPlot(\n",
       "                        '6d64ff6b-d54a-439f-8b3e-90fd7493a20c',\n",
       "                        [{\"mode\": \"markers+text\", \"text\": [\"US\", \"Spain\", \"UK\", \"Russia\", \"Italy\", \"France\", \"Germany\", \"Brazil\", \"Turkey\", \"Iran\", \"Mainland China\", \"Canada\", \"India\", \"Peru\", \"Belgium\", \"Netherlands\", \"Saudi Arabia\", \"Mexico\", \"Pakistan\", \"Ecuador\", \"Switzerland\", \"Chile\", \"Portugal\", \"Sweden\", \"Belarus\", \"Singapore\", \"Qatar\", \"Ireland\", \"United Arab Emirates\", \"Israel\", \"Poland\", \"Austria\", \"Japan\", \"Bangladesh\", \"Ukraine\", \"Romania\", \"Indonesia\", \"Colombia\", \"Philippines\", \"South Korea\", \"Denmark\", \"South Africa\", \"Dominican Republic\", \"Serbia\", \"Egypt\", \"Kuwait\", \"Panama\", \"Czech Republic\", \"Norway\", \"Australia\", \"Malaysia\", \"Morocco\", \"Argentina\", \"Finland\", \"Algeria\", \"Bahrain\", \"Kazakhstan\", \"Moldova\", \"Ghana\", \"Afghanistan\", \"Nigeria\", \"Luxembourg\", \"Oman\", \"Armenia\", \"Hungary\", \"Thailand\", \"Bolivia\", \"Iraq\", \"Greece\", \"Cameroon\", \"Azerbaijan\", \"Uzbekistan\", \"Croatia\", \"Guinea\", \"Bosnia and Herzegovina\", \"Honduras\", \"Bulgaria\", \"Senegal\", \"Iceland\", \"Cuba\", \"Estonia\", \"Ivory Coast\", \"North Macedonia\", \"Sudan\", \"New Zealand\", \"Lithuania\", \"Slovenia\", \"Slovakia\", \"Djibouti\", \"Guatemala\", \"Somalia\", \"Hong Kong\", \"Tunisia\", \"Congo (Kinshasa)\", \"Kyrgyzstan\", \"El Salvador\", \"Latvia\", \"Cyprus\", \"Maldives\", \"Kosovo\", \"Albania\", \"Sri Lanka\", \"Lebanon\", \"Niger\", \"Gabon\", \"Costa Rica\", \"Guinea-Bissau\", \"Burkina Faso\", \"Andorra\", \"Paraguay\", \"Others\", \"Mali\", \"Diamond Princess\", \"Uruguay\", \"Kenya\", \"Tajikistan\", \"Georgia\", \"San Marino\", \"Jordan\", \"Tanzania\", \"Jamaica\", \"Malta\", \"West Bank and Gaza\", \"Taiwan\", \"Equatorial Guinea\", \"Venezuela\", \"Sierra Leone\", \"Mauritius\", \"Congo (Brazzaville)\", \"Montenegro\", \"Chad\", \"Benin\", \"Vietnam\", \"Rwanda\", \"Zambia\", \"Cabo Verde\", \"Ethiopia\", \"Liberia\", \"Haiti\", \"Sao Tome and Principe\", \"Madagascar\", \"Togo\", \"Burma\", \"Eswatini\", \"South Sudan\", \"Central African Republic\", \"Brunei\", \"Nepal\", \"Cambodia\", \"Uganda\", \"Trinidad and Tobago\", \"Guyana\", \"Mozambique\", \"Monaco\", \"Bahamas\", \"Barbados\", \"Liechtenstein\", \"Libya\", \"Malawi\", \"Yemen\", \"Guadeloupe\", \"Syria\", \"Macau\", \"Angola\", \"Reunion\", \"Mongolia\", \"Zimbabwe\", \"Eritrea\", \"Martinique\", \"occupied Palestinian territory\", \"Antigua and Barbuda\", \"Botswana\", \"Timor-Leste\", \"Palestine\", \"Gambia\", \"Grenada\", \"Republic of Ireland\", \"Laos\", \"Belize\", \"Saint Lucia\", \"French Guiana\", \"Fiji\", \"Saint Vincent and the Grenadines\", \"Nicaragua\", \"Namibia\", \"Dominica\", \"Burundi\", \"Saint Kitts and Nevis\", \"Holy See\", \"Bhutan\", \"Comoros\", \"Seychelles\", \"Suriname\", \"MS Zaandam\", \"Mauritania\", \"Papua New Guinea\", \"Mayotte\", \"Western Sahara\", \"Bahamas, The\", \"Aruba\", \"Guam\", \"Saint Barthelemy\", \"Puerto Rico\", \"Faroe Islands\", \"St. Martin\", \"('St. Martin',)\", \"Jersey\", \"Vatican City\", \"Cayman Islands\", \"Cape Verde\", \"Gibraltar\", \"Channel Islands\", \"Curacao\", \"East Timor\", \"The Gambia\", \"The Bahamas\", \"Gambia, The\", \"Greenland\", \"Guernsey\", \"North Ireland\", \"Republic of the Congo\", \" Azerbaijan\"], \"textposition\": \"bottom center\", \"type\": \"scatter\", \"x\": [1347881.0, 236899.0, 224332.0, 221344.0, 219814.0, 177547.0, 172576.0, 169594.0, 139771.0, 109286.0, 82919.0, 71264.0, 70768.0, 68822.0, 53449.0, 42987.0, 41014.0, 36327.0, 32081.0, 31881.0, 30344.0, 30063.0, 27679.0, 26670.0, 23906.0, 23822.0, 23623.0, 23135.0, 18878.0, 16506.0, 16326.0, 15882.0, 15847.0, 15691.0, 15648.0, 15588.0, 14265.0, 11613.0, 11086.0, 10936.0, 10711.0, 10652.0, 10634.0, 10176.0, 9746.0, 9286.0, 8616.0, 8176.0, 8132.0, 6970.0, 6726.0, 6281.0, 6278.0, 5984.0, 5891.0, 5236.0, 5207.0, 4995.0, 4700.0, 4687.0, 4641.0, 3888.0, 3573.0, 3392.0, 3284.0, 3015.0, 2831.0, 2818.0, 2726.0, 2689.0, 2589.0, 2486.0, 2196.0, 2146.0, 2141.0, 2100.0, 1990.0, 1886.0, 1801.0, 1783.0, 1741.0, 1730.0, 1664.0, 1526.0, 1497.0, 1485.0, 1460.0, 1457.0, 1227.0, 1114.0, 1089.0, 1047.0, 1032.0, 1024.0, 1016.0, 958.0, 946.0, 901.0, 897.0, 884.0, 872.0, 869.0, 859.0, 832.0, 802.0, 801.0, 761.0, 760.0, 755.0, 724.0, 712.0, 712.0, 712.0, 711.0, 700.0, 661.0, 638.0, 637.0, 562.0, 509.0, 505.0, 503.0, 484.0, 440.0, 439.0, 422.0, 338.0, 334.0, 333.0, 324.0, 322.0, 319.0, 288.0, 285.0, 267.0, 260.0, 250.0, 211.0, 209.0, 208.0, 193.0, 181.0, 180.0, 175.0, 156.0, 143.0, 141.0, 134.0, 122.0, 121.0, 116.0, 109.0, 103.0, 96.0, 93.0, 84.0, 82.0, 64.0, 57.0, 56.0, 53.0, 47.0, 45.0, 45.0, 45.0, 42.0, 40.0, 39.0, 32.0, 25.0, 25.0, 24.0, 24.0, 22.0, 22.0, 21.0, 21.0, 19.0, 18.0, 18.0, 18.0, 18.0, 17.0, 16.0, 16.0, 16.0, 15.0, 15.0, 12.0, 11.0, 11.0, 11.0, 10.0, 9.0, 8.0, 8.0, 7.0, 6.0, 4.0, 4.0, 3.0, 3.0, 3.0, 2.0, 2.0, 2.0, 2.0, 1.0, 1.0, 1.0, 1.0, 1.0, 1.0, 1.0, 1.0, 1.0, 1.0, 1.0, 1.0, 1.0, 1.0, 1.0], \"y\": [232733.0, 137139.0, 1015.0, 39801.0, 106587.0, 56835.0, 145617.0, 67384.0, 95780.0, 87422.0, 78171.0, 33007.0, 22549.0, 22406.0, 13697.0, 322.0, 12737.0, 23100.0, 8555.0, 3433.0, 26800.0, 13605.0, 2549.0, 4971.0, 6531.0, 3225.0, 2840.0, 17110.0, 5381.0, 11843.0, 5816.0, 14061.0, 8293.0, 2902.0, 3288.0, 7245.0, 2881.0, 2825.0, 1999.0, 9670.0, 8526.0, 4357.0, 2870.0, 3290.0, 2172.0, 2907.0, 4687.0, 4711.0, 32.0, 6213.0, 5113.0, 2811.0, 1837.0, 4000.0, 2841.0, 2152.0, 2074.0, 1980.0, 494.0, 558.0, 902.0, 3602.0, 1250.0, 1359.0, 958.0, 2796.0, 299.0, 1790.0, 1374.0, 1524.0, 1680.0, 1988.0, 1784.0, 714.0, 1114.0, 206.0, 461.0, 715.0, 1773.0, 1229.0, 751.0, 818.0, 1200.0, 162.0, 1398.0, 833.0, 256.0, 959.0, 872.0, 111.0, 121.0, 985.0, 727.0, 141.0, 688.0, 325.0, 464.0, 401.0, 29.0, 655.0, 654.0, 343.0, 234.0, 637.0, 127.0, 517.0, 26.0, 584.0, 550.0, 170.0, 567.0, 377.0, 651.0, 523.0, 251.0, 0.0, 317.0, 130.0, 390.0, 183.0, 90.0, 434.0, 301.0, 368.0, 13.0, 205.0, 72.0, 322.0, 53.0, 294.0, 53.0, 62.0, 249.0, 150.0, 117.0, 58.0, 105.0, 85.0, 17.0, 4.0, 101.0, 89.0, 74.0, 28.0, 2.0, 10.0, 134.0, 33.0, 121.0, 55.0, 107.0, 36.0, 34.0, 85.0, 39.0, 57.0, 55.0, 28.0, 24.0, 1.0, 0.0, 29.0, 42.0, 13.0, 0.0, 14.0, 9.0, 38.0, 0.0, 0.0, 19.0, 12.0, 21.0, 0.0, 10.0, 13.0, 0.0, 13.0, 16.0, 17.0, 6.0, 14.0, 9.0, 7.0, 11.0, 15.0, 7.0, 14.0, 2.0, 5.0, 0.0, 10.0, 9.0, 0.0, 6.0, 8.0, 0.0, 6.0, 0.0, 0.0, 0.0, 0.0, 0.0, 0.0, 0.0, 0.0, 0.0, 0.0, 0.0, 0.0, 1.0, 0.0, 0.0, 0.0, 0.0, 0.0, 0.0, 0.0, 0.0, 0.0, 0.0, 0.0]}],\n",
       "                        {\"template\": {\"data\": {\"bar\": [{\"error_x\": {\"color\": \"#2a3f5f\"}, \"error_y\": {\"color\": \"#2a3f5f\"}, \"marker\": {\"line\": {\"color\": \"#E5ECF6\", \"width\": 0.5}}, \"type\": \"bar\"}], \"barpolar\": [{\"marker\": {\"line\": {\"color\": \"#E5ECF6\", \"width\": 0.5}}, \"type\": \"barpolar\"}], \"carpet\": [{\"aaxis\": {\"endlinecolor\": \"#2a3f5f\", \"gridcolor\": \"white\", \"linecolor\": \"white\", \"minorgridcolor\": \"white\", \"startlinecolor\": \"#2a3f5f\"}, \"baxis\": {\"endlinecolor\": \"#2a3f5f\", \"gridcolor\": \"white\", \"linecolor\": \"white\", \"minorgridcolor\": \"white\", \"startlinecolor\": \"#2a3f5f\"}, \"type\": \"carpet\"}], \"choropleth\": [{\"colorbar\": {\"outlinewidth\": 0, \"ticks\": \"\"}, \"type\": \"choropleth\"}], \"contour\": [{\"colorbar\": {\"outlinewidth\": 0, \"ticks\": \"\"}, \"colorscale\": [[0.0, \"#0d0887\"], [0.1111111111111111, \"#46039f\"], [0.2222222222222222, \"#7201a8\"], [0.3333333333333333, \"#9c179e\"], [0.4444444444444444, \"#bd3786\"], [0.5555555555555556, \"#d8576b\"], [0.6666666666666666, \"#ed7953\"], [0.7777777777777778, \"#fb9f3a\"], [0.8888888888888888, \"#fdca26\"], [1.0, \"#f0f921\"]], \"type\": \"contour\"}], \"contourcarpet\": [{\"colorbar\": {\"outlinewidth\": 0, \"ticks\": \"\"}, \"type\": \"contourcarpet\"}], \"heatmap\": [{\"colorbar\": {\"outlinewidth\": 0, \"ticks\": \"\"}, \"colorscale\": [[0.0, \"#0d0887\"], [0.1111111111111111, \"#46039f\"], [0.2222222222222222, \"#7201a8\"], [0.3333333333333333, \"#9c179e\"], [0.4444444444444444, \"#bd3786\"], [0.5555555555555556, \"#d8576b\"], [0.6666666666666666, \"#ed7953\"], [0.7777777777777778, \"#fb9f3a\"], [0.8888888888888888, \"#fdca26\"], [1.0, \"#f0f921\"]], \"type\": \"heatmap\"}], \"heatmapgl\": [{\"colorbar\": {\"outlinewidth\": 0, \"ticks\": \"\"}, \"colorscale\": [[0.0, \"#0d0887\"], [0.1111111111111111, \"#46039f\"], [0.2222222222222222, \"#7201a8\"], [0.3333333333333333, \"#9c179e\"], [0.4444444444444444, \"#bd3786\"], [0.5555555555555556, \"#d8576b\"], [0.6666666666666666, \"#ed7953\"], [0.7777777777777778, \"#fb9f3a\"], [0.8888888888888888, \"#fdca26\"], [1.0, \"#f0f921\"]], \"type\": \"heatmapgl\"}], \"histogram\": [{\"marker\": {\"colorbar\": {\"outlinewidth\": 0, \"ticks\": \"\"}}, \"type\": \"histogram\"}], \"histogram2d\": [{\"colorbar\": {\"outlinewidth\": 0, \"ticks\": \"\"}, \"colorscale\": [[0.0, \"#0d0887\"], [0.1111111111111111, \"#46039f\"], [0.2222222222222222, \"#7201a8\"], [0.3333333333333333, \"#9c179e\"], [0.4444444444444444, \"#bd3786\"], [0.5555555555555556, \"#d8576b\"], [0.6666666666666666, \"#ed7953\"], [0.7777777777777778, \"#fb9f3a\"], [0.8888888888888888, \"#fdca26\"], [1.0, \"#f0f921\"]], \"type\": \"histogram2d\"}], \"histogram2dcontour\": [{\"colorbar\": {\"outlinewidth\": 0, \"ticks\": \"\"}, \"colorscale\": [[0.0, \"#0d0887\"], [0.1111111111111111, \"#46039f\"], [0.2222222222222222, \"#7201a8\"], [0.3333333333333333, \"#9c179e\"], [0.4444444444444444, \"#bd3786\"], [0.5555555555555556, \"#d8576b\"], [0.6666666666666666, \"#ed7953\"], [0.7777777777777778, \"#fb9f3a\"], [0.8888888888888888, \"#fdca26\"], [1.0, \"#f0f921\"]], \"type\": \"histogram2dcontour\"}], \"mesh3d\": [{\"colorbar\": {\"outlinewidth\": 0, \"ticks\": \"\"}, \"type\": \"mesh3d\"}], \"parcoords\": [{\"line\": {\"colorbar\": {\"outlinewidth\": 0, \"ticks\": \"\"}}, \"type\": \"parcoords\"}], \"pie\": [{\"automargin\": true, \"type\": \"pie\"}], \"scatter\": [{\"marker\": {\"colorbar\": {\"outlinewidth\": 0, \"ticks\": \"\"}}, \"type\": \"scatter\"}], \"scatter3d\": [{\"line\": {\"colorbar\": {\"outlinewidth\": 0, \"ticks\": \"\"}}, \"marker\": {\"colorbar\": {\"outlinewidth\": 0, \"ticks\": \"\"}}, \"type\": \"scatter3d\"}], \"scattercarpet\": [{\"marker\": {\"colorbar\": {\"outlinewidth\": 0, \"ticks\": \"\"}}, \"type\": \"scattercarpet\"}], \"scattergeo\": [{\"marker\": {\"colorbar\": {\"outlinewidth\": 0, \"ticks\": \"\"}}, \"type\": \"scattergeo\"}], \"scattergl\": [{\"marker\": {\"colorbar\": {\"outlinewidth\": 0, \"ticks\": \"\"}}, \"type\": \"scattergl\"}], \"scattermapbox\": [{\"marker\": {\"colorbar\": {\"outlinewidth\": 0, \"ticks\": \"\"}}, \"type\": \"scattermapbox\"}], \"scatterpolar\": [{\"marker\": {\"colorbar\": {\"outlinewidth\": 0, \"ticks\": \"\"}}, \"type\": \"scatterpolar\"}], \"scatterpolargl\": [{\"marker\": {\"colorbar\": {\"outlinewidth\": 0, \"ticks\": \"\"}}, \"type\": \"scatterpolargl\"}], \"scatterternary\": [{\"marker\": {\"colorbar\": {\"outlinewidth\": 0, \"ticks\": \"\"}}, \"type\": \"scatterternary\"}], \"surface\": [{\"colorbar\": {\"outlinewidth\": 0, \"ticks\": \"\"}, \"colorscale\": [[0.0, \"#0d0887\"], [0.1111111111111111, \"#46039f\"], [0.2222222222222222, \"#7201a8\"], [0.3333333333333333, \"#9c179e\"], [0.4444444444444444, \"#bd3786\"], [0.5555555555555556, \"#d8576b\"], [0.6666666666666666, \"#ed7953\"], [0.7777777777777778, \"#fb9f3a\"], [0.8888888888888888, \"#fdca26\"], [1.0, \"#f0f921\"]], \"type\": \"surface\"}], \"table\": [{\"cells\": {\"fill\": {\"color\": \"#EBF0F8\"}, \"line\": {\"color\": \"white\"}}, \"header\": {\"fill\": {\"color\": \"#C8D4E3\"}, \"line\": {\"color\": \"white\"}}, \"type\": \"table\"}]}, \"layout\": {\"annotationdefaults\": {\"arrowcolor\": \"#2a3f5f\", \"arrowhead\": 0, \"arrowwidth\": 1}, \"coloraxis\": {\"colorbar\": {\"outlinewidth\": 0, \"ticks\": \"\"}}, \"colorscale\": {\"diverging\": [[0, \"#8e0152\"], [0.1, \"#c51b7d\"], [0.2, \"#de77ae\"], [0.3, \"#f1b6da\"], [0.4, \"#fde0ef\"], [0.5, \"#f7f7f7\"], [0.6, \"#e6f5d0\"], [0.7, \"#b8e186\"], [0.8, \"#7fbc41\"], [0.9, \"#4d9221\"], [1, \"#276419\"]], \"sequential\": [[0.0, \"#0d0887\"], [0.1111111111111111, \"#46039f\"], [0.2222222222222222, \"#7201a8\"], [0.3333333333333333, \"#9c179e\"], [0.4444444444444444, \"#bd3786\"], [0.5555555555555556, \"#d8576b\"], [0.6666666666666666, \"#ed7953\"], [0.7777777777777778, \"#fb9f3a\"], [0.8888888888888888, \"#fdca26\"], [1.0, \"#f0f921\"]], \"sequentialminus\": [[0.0, \"#0d0887\"], [0.1111111111111111, \"#46039f\"], [0.2222222222222222, \"#7201a8\"], [0.3333333333333333, \"#9c179e\"], [0.4444444444444444, \"#bd3786\"], [0.5555555555555556, \"#d8576b\"], [0.6666666666666666, \"#ed7953\"], [0.7777777777777778, \"#fb9f3a\"], [0.8888888888888888, \"#fdca26\"], [1.0, \"#f0f921\"]]}, \"colorway\": [\"#636efa\", \"#EF553B\", \"#00cc96\", \"#ab63fa\", \"#FFA15A\", \"#19d3f3\", \"#FF6692\", \"#B6E880\", \"#FF97FF\", \"#FECB52\"], \"font\": {\"color\": \"#2a3f5f\"}, \"geo\": {\"bgcolor\": \"white\", \"lakecolor\": \"white\", \"landcolor\": \"#E5ECF6\", \"showlakes\": true, \"showland\": true, \"subunitcolor\": \"white\"}, \"hoverlabel\": {\"align\": \"left\"}, \"hovermode\": \"closest\", \"mapbox\": {\"style\": \"light\"}, \"paper_bgcolor\": \"white\", \"plot_bgcolor\": \"#E5ECF6\", \"polar\": {\"angularaxis\": {\"gridcolor\": \"white\", \"linecolor\": \"white\", \"ticks\": \"\"}, \"bgcolor\": \"#E5ECF6\", \"radialaxis\": {\"gridcolor\": \"white\", \"linecolor\": \"white\", \"ticks\": \"\"}}, \"scene\": {\"xaxis\": {\"backgroundcolor\": \"#E5ECF6\", \"gridcolor\": \"white\", \"gridwidth\": 2, \"linecolor\": \"white\", \"showbackground\": true, \"ticks\": \"\", \"zerolinecolor\": \"white\"}, \"yaxis\": {\"backgroundcolor\": \"#E5ECF6\", \"gridcolor\": \"white\", \"gridwidth\": 2, \"linecolor\": \"white\", \"showbackground\": true, \"ticks\": \"\", \"zerolinecolor\": \"white\"}, \"zaxis\": {\"backgroundcolor\": \"#E5ECF6\", \"gridcolor\": \"white\", \"gridwidth\": 2, \"linecolor\": \"white\", \"showbackground\": true, \"ticks\": \"\", \"zerolinecolor\": \"white\"}}, \"shapedefaults\": {\"line\": {\"color\": \"#2a3f5f\"}}, \"ternary\": {\"aaxis\": {\"gridcolor\": \"white\", \"linecolor\": \"white\", \"ticks\": \"\"}, \"baxis\": {\"gridcolor\": \"white\", \"linecolor\": \"white\", \"ticks\": \"\"}, \"bgcolor\": \"#E5ECF6\", \"caxis\": {\"gridcolor\": \"white\", \"linecolor\": \"white\", \"ticks\": \"\"}}, \"title\": {\"x\": 0.05}, \"xaxis\": {\"automargin\": true, \"gridcolor\": \"white\", \"linecolor\": \"white\", \"ticks\": \"\", \"title\": {\"standoff\": 15}, \"zerolinecolor\": \"white\", \"zerolinewidth\": 2}, \"yaxis\": {\"automargin\": true, \"gridcolor\": \"white\", \"linecolor\": \"white\", \"ticks\": \"\", \"title\": {\"standoff\": 15}, \"zerolinecolor\": \"white\", \"zerolinewidth\": 2}}}, \"title\": {\"text\": \"Confirmed and Recovered\"}, \"xaxis\": {\"title\": {\"text\": \"Confirmed\"}}, \"yaxis\": {\"title\": {\"text\": \"Recovered\"}}},\n",
       "                        {\"responsive\": true}\n",
       "                    ).then(function(){\n",
       "                            \n",
       "var gd = document.getElementById('6d64ff6b-d54a-439f-8b3e-90fd7493a20c');\n",
       "var x = new MutationObserver(function (mutations, observer) {{\n",
       "        var display = window.getComputedStyle(gd).display;\n",
       "        if (!display || display === 'none') {{\n",
       "            console.log([gd, 'removed!']);\n",
       "            Plotly.purge(gd);\n",
       "            observer.disconnect();\n",
       "        }}\n",
       "}});\n",
       "\n",
       "// Listen for the removal of the full notebook cells\n",
       "var notebookContainer = gd.closest('#notebook-container');\n",
       "if (notebookContainer) {{\n",
       "    x.observe(notebookContainer, {childList: true});\n",
       "}}\n",
       "\n",
       "// Listen for the clearing of the current output cell\n",
       "var outputEl = gd.closest('.output');\n",
       "if (outputEl) {{\n",
       "    x.observe(outputEl, {childList: true});\n",
       "}}\n",
       "\n",
       "                        })\n",
       "                };\n",
       "                });\n",
       "            </script>\n",
       "        </div>"
      ]
     },
     "metadata": {},
     "output_type": "display_data"
    }
   ],
   "source": [
    "trace0 = go.Scatter(\n",
    "    x=df_by_country.Confirmed,\n",
    "    y=df_by_country.Recovered,\n",
    "    mode = 'markers+text',\n",
    "    text = df_by_country.Country,\n",
    "    textposition='bottom center'\n",
    ")\n",
    "\n",
    "data = [trace0]\n",
    "layout = {'title': 'Confirmed and Recovered', 'yaxis': {'title': 'Recovered'}, \n",
    "          'xaxis': {'title': 'Confirmed'}}\n",
    "\n",
    "fig = go.Figure(data=data, layout=layout)\n",
    "\n",
    "iplot(fig, show_link=False)"
   ]
  }
 ],
 "metadata": {
  "kernelspec": {
   "display_name": "Python 3",
   "language": "python",
   "name": "python3"
  },
  "language_info": {
   "codemirror_mode": {
    "name": "ipython",
    "version": 3
   },
   "file_extension": ".py",
   "mimetype": "text/x-python",
   "name": "python",
   "nbconvert_exporter": "python",
   "pygments_lexer": "ipython3",
   "version": "3.7.6"
  }
 },
 "nbformat": 4,
 "nbformat_minor": 4
}
