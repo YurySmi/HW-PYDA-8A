{
 "cells": [
  {
   "cell_type": "markdown",
   "metadata": {},
   "source": [
    "# Домашнее задание\n",
    "1. Переведите содержимое файла purchase_log.txt в словарь purchases вида:\n",
    "```python\n",
    "{'1840e0b9d4': 'Продукты', ...}\n",
    "```\n",
    "\n",
    "2. Для каждого user_id в файле visit_log.csv определите третий столбец с категорией покупки (если покупка была, сам файл visit_log.csv изменять не надо). Запишите в файл funnel.csv визиты из файла visit_log.csv, в которых были покупки с указанием категории.\n",
    "\n",
    "Учтите условия на данные:\n",
    "- содержимое purchase_log.txt помещается в оперативную память компьютера\n",
    "- содержимое visit_log.csv - нет; используйте только построчную обработку этого файла"
   ]
  },
  {
   "cell_type": "markdown",
   "metadata": {},
   "source": [
    "### 1. Перевод содержимого файла purchase_log.txt в словарь purchases "
   ]
  },
  {
   "cell_type": "code",
   "execution_count": 1,
   "metadata": {},
   "outputs": [],
   "source": [
    "import json"
   ]
  },
  {
   "cell_type": "code",
   "execution_count": 2,
   "metadata": {},
   "outputs": [],
   "source": [
    "def read_purchases(file_name):    \n",
    "    purchases_ = {}\n",
    "    i = 0\n",
    "    with open(file_name,'r', encoding='utf-8') as f:\n",
    "        f.readline()  # пропустить заголовок\n",
    "        purchases_ = {json.loads(x.strip())['user_id']:json.loads(x.strip())['category'] for x in f}\n",
    "\n",
    "#         for line in f:\n",
    "#             line = json.loads(f.readline().strip())    \n",
    "#             purchases_[line['user_id']] = line['category']\n",
    "\n",
    "        return purchases_"
   ]
  },
  {
   "cell_type": "code",
   "execution_count": 3,
   "metadata": {},
   "outputs": [
    {
     "name": "stdout",
     "output_type": "stream",
     "text": [
      "1840e0b9d4 Продукты\n",
      "4e4f90fcfb Электроника\n",
      "afea8d72fc Электроника\n",
      "373a6055fe Бытовая техника\n",
      "9b2ab046f3 Электроника\n",
      "9f39d307c3 Электроника\n"
     ]
    }
   ],
   "source": [
    "purchases = read_purchases('purchase_log.txt') \n",
    "i = 0\n",
    "for key, value in purchases.items():\n",
    "    print(key, value)\n",
    "    i += 1\n",
    "    if i > 5:\n",
    "        break\n"
   ]
  },
  {
   "cell_type": "markdown",
   "metadata": {},
   "source": [
    "### 2. Объединение данных - воронка продаж: \n",
    "- визиты (visit_log.csv ) и \n",
    "- продажи (purchase_log.txt, словарь purchases),\n",
    "- результат в файле  (funnel.csv)"
   ]
  },
  {
   "cell_type": "code",
   "execution_count": 4,
   "metadata": {},
   "outputs": [],
   "source": [
    "def funnel(visit_file_name, funnel_file_name, purchases):    \n",
    "    with open(visit_file_name, 'r') as f:\n",
    "        with open(funnel_file_name, 'w') as wf:\n",
    "            for line in f:\n",
    "                line = line.strip().split(',')                \n",
    "                category = purchases.get(line[0])\n",
    "                if category is not None:  # проверка на наличие записи о покупке\n",
    "                    line.append(purchases[line[0]])\n",
    "                    wf.write(','.join(line)+'\\n')                                              "
   ]
  },
  {
   "cell_type": "code",
   "execution_count": 5,
   "metadata": {},
   "outputs": [
    {
     "name": "stdout",
     "output_type": "stream",
     "text": [
      "1840e0b9d4,other,Продукты\n",
      "4e4f90fcfb,context,Электроника\n",
      "afea8d72fc,other,Электроника\n",
      "2824221f38,email,Продукты\n",
      "373a6055fe,other,Бытовая техника\n",
      "9b2ab046f3,other,Электроника\n"
     ]
    }
   ],
   "source": [
    "funnel('visit_log.csv', 'funnel.csv', purchases)\n",
    "\n",
    "# вывод первых 5 строк получившегося файла\n",
    "with open('funnel.csv', 'r') as f:\n",
    "    i = 0\n",
    "    for line in f:       \n",
    "        print(line.strip())\n",
    "        i += 1\n",
    "        if i > 5:\n",
    "            break"
   ]
  },
  {
   "cell_type": "code",
   "execution_count": null,
   "metadata": {},
   "outputs": [],
   "source": []
  }
 ],
 "metadata": {
  "kernelspec": {
   "display_name": "Python 3",
   "language": "python",
   "name": "python3"
  },
  "language_info": {
   "codemirror_mode": {
    "name": "ipython",
    "version": 3
   },
   "file_extension": ".py",
   "mimetype": "text/x-python",
   "name": "python",
   "nbconvert_exporter": "python",
   "pygments_lexer": "ipython3",
   "version": "3.7.6"
  }
 },
 "nbformat": 4,
 "nbformat_minor": 4
}
